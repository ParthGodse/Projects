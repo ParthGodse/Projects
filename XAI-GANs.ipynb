{
  "cells": [
    {
      "cell_type": "code",
      "source": [
        "!git clone https://github.com/aditi-govindu/audio-gans.git"
      ],
      "metadata": {
        "colab": {
          "base_uri": "https://localhost:8080/"
        },
        "id": "Ilx1kok-0zV4",
        "outputId": "dd5f2f1c-82e4-429e-dd66-c9c76c91f4e5"
      },
      "id": "Ilx1kok-0zV4",
      "execution_count": null,
      "outputs": [
        {
          "output_type": "stream",
          "name": "stdout",
          "text": [
            "Cloning into 'audio-gans'...\n",
            "fatal: could not read Username for 'https://github.com': No such device or address\n"
          ]
        }
      ]
    },
    {
      "cell_type": "code",
      "execution_count": null,
      "id": "bbf725b4",
      "metadata": {
        "id": "bbf725b4"
      },
      "outputs": [],
      "source": [
        "# Import modules\n",
        "import tensorflow as tf\n",
        "import tensorflow.keras as K\n",
        "\n",
        "from tensorflow.keras.applications import VGG16\n",
        "\n",
        "from keras.models import Sequential\n",
        "from keras.layers import Conv2D, MaxPooling2D\n",
        "from keras.layers import Flatten, Dense\n",
        "\n",
        "import numpy as np\n",
        "import librosa.display, os\n",
        "import keras.utils as image\n",
        "from sklearn.model_selection import train_test_split\n",
        "from tensorflow.keras.utils import to_categorical\n",
        "\n",
        "import tensorflow_hub as hub\n",
        "import datetime\n",
        "import matplotlib.pyplot as plt"
      ]
    },
    {
      "cell_type": "code",
      "source": [
        "pip install lime"
      ],
      "metadata": {
        "colab": {
          "base_uri": "https://localhost:8080/"
        },
        "id": "O2dPy8fg2ifj",
        "outputId": "1ff689d4-523a-40d0-fc2a-0875a9b08368"
      },
      "id": "O2dPy8fg2ifj",
      "execution_count": null,
      "outputs": [
        {
          "output_type": "stream",
          "name": "stdout",
          "text": [
            "Looking in indexes: https://pypi.org/simple, https://us-python.pkg.dev/colab-wheels/public/simple/\n",
            "Collecting lime\n",
            "  Downloading lime-0.2.0.1.tar.gz (275 kB)\n",
            "\u001b[2K     \u001b[90m━━━━━━━━━━━━━━━━━━━━━━━━━━━━━━━━━━━━━━\u001b[0m \u001b[32m275.7/275.7 KB\u001b[0m \u001b[31m23.0 MB/s\u001b[0m eta \u001b[36m0:00:00\u001b[0m\n",
            "\u001b[?25h  Preparing metadata (setup.py) ... \u001b[?25l\u001b[?25hdone\n",
            "Requirement already satisfied: matplotlib in /usr/local/lib/python3.9/dist-packages (from lime) (3.7.1)\n",
            "Requirement already satisfied: numpy in /usr/local/lib/python3.9/dist-packages (from lime) (1.22.4)\n",
            "Requirement already satisfied: scipy in /usr/local/lib/python3.9/dist-packages (from lime) (1.10.1)\n",
            "Requirement already satisfied: tqdm in /usr/local/lib/python3.9/dist-packages (from lime) (4.65.0)\n",
            "Requirement already satisfied: scikit-learn>=0.18 in /usr/local/lib/python3.9/dist-packages (from lime) (1.2.2)\n",
            "Requirement already satisfied: scikit-image>=0.12 in /usr/local/lib/python3.9/dist-packages (from lime) (0.19.3)\n",
            "Requirement already satisfied: networkx>=2.2 in /usr/local/lib/python3.9/dist-packages (from scikit-image>=0.12->lime) (3.0)\n",
            "Requirement already satisfied: pillow!=7.1.0,!=7.1.1,!=8.3.0,>=6.1.0 in /usr/local/lib/python3.9/dist-packages (from scikit-image>=0.12->lime) (8.4.0)\n",
            "Requirement already satisfied: PyWavelets>=1.1.1 in /usr/local/lib/python3.9/dist-packages (from scikit-image>=0.12->lime) (1.4.1)\n",
            "Requirement already satisfied: imageio>=2.4.1 in /usr/local/lib/python3.9/dist-packages (from scikit-image>=0.12->lime) (2.25.1)\n",
            "Requirement already satisfied: tifffile>=2019.7.26 in /usr/local/lib/python3.9/dist-packages (from scikit-image>=0.12->lime) (2023.3.21)\n",
            "Requirement already satisfied: packaging>=20.0 in /usr/local/lib/python3.9/dist-packages (from scikit-image>=0.12->lime) (23.0)\n",
            "Requirement already satisfied: joblib>=1.1.1 in /usr/local/lib/python3.9/dist-packages (from scikit-learn>=0.18->lime) (1.1.1)\n",
            "Requirement already satisfied: threadpoolctl>=2.0.0 in /usr/local/lib/python3.9/dist-packages (from scikit-learn>=0.18->lime) (3.1.0)\n",
            "Requirement already satisfied: python-dateutil>=2.7 in /usr/local/lib/python3.9/dist-packages (from matplotlib->lime) (2.8.2)\n",
            "Requirement already satisfied: pyparsing>=2.3.1 in /usr/local/lib/python3.9/dist-packages (from matplotlib->lime) (3.0.9)\n",
            "Requirement already satisfied: cycler>=0.10 in /usr/local/lib/python3.9/dist-packages (from matplotlib->lime) (0.11.0)\n",
            "Requirement already satisfied: fonttools>=4.22.0 in /usr/local/lib/python3.9/dist-packages (from matplotlib->lime) (4.39.3)\n",
            "Requirement already satisfied: importlib-resources>=3.2.0 in /usr/local/lib/python3.9/dist-packages (from matplotlib->lime) (5.12.0)\n",
            "Requirement already satisfied: contourpy>=1.0.1 in /usr/local/lib/python3.9/dist-packages (from matplotlib->lime) (1.0.7)\n",
            "Requirement already satisfied: kiwisolver>=1.0.1 in /usr/local/lib/python3.9/dist-packages (from matplotlib->lime) (1.4.4)\n",
            "Requirement already satisfied: zipp>=3.1.0 in /usr/local/lib/python3.9/dist-packages (from importlib-resources>=3.2.0->matplotlib->lime) (3.15.0)\n",
            "Requirement already satisfied: six>=1.5 in /usr/local/lib/python3.9/dist-packages (from python-dateutil>=2.7->matplotlib->lime) (1.16.0)\n",
            "Building wheels for collected packages: lime\n",
            "  Building wheel for lime (setup.py) ... \u001b[?25l\u001b[?25hdone\n",
            "  Created wheel for lime: filename=lime-0.2.0.1-py3-none-any.whl size=283859 sha256=03cf1a50d8b1764429534b40d7ec615d0cccbcb1e5c9d5b1715fae25a14d27b7\n",
            "  Stored in directory: /root/.cache/pip/wheels/ed/d7/c9/5a0130d06d6310bc6cbe55220e6e72dcb8c4eff9a478717066\n",
            "Successfully built lime\n",
            "Installing collected packages: lime\n",
            "Successfully installed lime-0.2.0.1\n"
          ]
        }
      ]
    },
    {
      "cell_type": "code",
      "execution_count": null,
      "id": "2f374bc3",
      "metadata": {
        "id": "2f374bc3"
      },
      "outputs": [],
      "source": [
        "# For XAI\n",
        "import lime\n",
        "from skimage.segmentation import mark_boundaries"
      ]
    },
    {
      "cell_type": "code",
      "execution_count": null,
      "id": "e3eaebfa",
      "metadata": {
        "id": "e3eaebfa"
      },
      "outputs": [],
      "source": [
        "def generate_prediction_sample(exp, exp_class, weight = 0.1, show_positive = True, hide_background = True):\n",
        "    '''\n",
        "    Method to display and highlight super-pixels used by the black-box model to make predictions\n",
        "    '''\n",
        "\n",
        "    image, mask = exp.get_image_and_mask(exp_class,\n",
        "                                         positive_only=show_positive,\n",
        "                                         num_features=6,\n",
        "                                         hide_rest=hide_background,\n",
        "                                         min_weight=weight\n",
        "                                        )\n",
        "    %matplotlib inline\n",
        "    plt.imshow(mark_boundaries(image, mask))\n",
        "    plt.plot()"
      ]
    },
    {
      "cell_type": "markdown",
      "id": "832725a2",
      "metadata": {
        "id": "832725a2"
      },
      "source": [
        "# Setting Random Seed"
      ]
    },
    {
      "cell_type": "code",
      "execution_count": null,
      "id": "50c6120b",
      "metadata": {
        "id": "50c6120b"
      },
      "outputs": [],
      "source": [
        "tf.random.set_seed(42)"
      ]
    },
    {
      "cell_type": "markdown",
      "id": "fad4cff8",
      "metadata": {
        "id": "fad4cff8"
      },
      "source": [
        "# Preprocessing"
      ]
    },
    {
      "cell_type": "code",
      "execution_count": null,
      "id": "7815f496",
      "metadata": {
        "id": "7815f496"
      },
      "outputs": [],
      "source": [
        "# Load data parameters\n",
        "batch_size = 32\n",
        "img_height = img_width = 224\n",
        "channels = 3\n",
        "\n",
        "root = 'https://github.com/aditi-govindu/audio-gans/tree/main/data' #r'path_to_Spectrogram_folder'"
      ]
    },
    {
      "cell_type": "code",
      "execution_count": null,
      "id": "1340c7cd",
      "metadata": {
        "colab": {
          "base_uri": "https://localhost:8080/",
          "height": 395
        },
        "id": "1340c7cd",
        "outputId": "b2240573-7b3a-4b15-ebbc-126d45230682"
      },
      "outputs": [
        {
          "output_type": "error",
          "ename": "NotFoundError",
          "evalue": "ignored",
          "traceback": [
            "\u001b[0;31m---------------------------------------------------------------------------\u001b[0m",
            "\u001b[0;31mNotFoundError\u001b[0m                             Traceback (most recent call last)",
            "\u001b[0;32m<ipython-input-15-2ea6f855511a>\u001b[0m in \u001b[0;36m<cell line: 1>\u001b[0;34m()\u001b[0m\n\u001b[0;32m----> 1\u001b[0;31m train_ds = K.utils.image_dataset_from_directory(str(root), \n\u001b[0m\u001b[1;32m      2\u001b[0m                                                \u001b[0mvalidation_split\u001b[0m \u001b[0;34m=\u001b[0m \u001b[0;36m0.2\u001b[0m\u001b[0;34m,\u001b[0m\u001b[0;34m\u001b[0m\u001b[0;34m\u001b[0m\u001b[0m\n\u001b[1;32m      3\u001b[0m                                                \u001b[0msubset\u001b[0m \u001b[0;34m=\u001b[0m \u001b[0;34m'training'\u001b[0m\u001b[0;34m,\u001b[0m\u001b[0;34m\u001b[0m\u001b[0;34m\u001b[0m\u001b[0m\n\u001b[1;32m      4\u001b[0m                                                \u001b[0mseed\u001b[0m \u001b[0;34m=\u001b[0m \u001b[0;36m42\u001b[0m\u001b[0;34m,\u001b[0m\u001b[0;34m\u001b[0m\u001b[0;34m\u001b[0m\u001b[0m\n\u001b[1;32m      5\u001b[0m                                                \u001b[0mimage_size\u001b[0m \u001b[0;34m=\u001b[0m \u001b[0;34m(\u001b[0m\u001b[0mimg_height\u001b[0m\u001b[0;34m,\u001b[0m \u001b[0mimg_width\u001b[0m\u001b[0;34m)\u001b[0m\u001b[0;34m,\u001b[0m\u001b[0;34m\u001b[0m\u001b[0;34m\u001b[0m\u001b[0m\n",
            "\u001b[0;32m/usr/local/lib/python3.9/dist-packages/keras/utils/image_dataset.py\u001b[0m in \u001b[0;36mimage_dataset_from_directory\u001b[0;34m(directory, labels, label_mode, class_names, color_mode, batch_size, image_size, shuffle, seed, validation_split, subset, interpolation, follow_links, crop_to_aspect_ratio, **kwargs)\u001b[0m\n\u001b[1;32m    208\u001b[0m     \u001b[0;32mif\u001b[0m \u001b[0mseed\u001b[0m \u001b[0;32mis\u001b[0m \u001b[0;32mNone\u001b[0m\u001b[0;34m:\u001b[0m\u001b[0;34m\u001b[0m\u001b[0;34m\u001b[0m\u001b[0m\n\u001b[1;32m    209\u001b[0m         \u001b[0mseed\u001b[0m \u001b[0;34m=\u001b[0m \u001b[0mnp\u001b[0m\u001b[0;34m.\u001b[0m\u001b[0mrandom\u001b[0m\u001b[0;34m.\u001b[0m\u001b[0mrandint\u001b[0m\u001b[0;34m(\u001b[0m\u001b[0;36m1e6\u001b[0m\u001b[0;34m)\u001b[0m\u001b[0;34m\u001b[0m\u001b[0;34m\u001b[0m\u001b[0m\n\u001b[0;32m--> 210\u001b[0;31m     image_paths, labels, class_names = dataset_utils.index_directory(\n\u001b[0m\u001b[1;32m    211\u001b[0m         \u001b[0mdirectory\u001b[0m\u001b[0;34m,\u001b[0m\u001b[0;34m\u001b[0m\u001b[0;34m\u001b[0m\u001b[0m\n\u001b[1;32m    212\u001b[0m         \u001b[0mlabels\u001b[0m\u001b[0;34m,\u001b[0m\u001b[0;34m\u001b[0m\u001b[0;34m\u001b[0m\u001b[0m\n",
            "\u001b[0;32m/usr/local/lib/python3.9/dist-packages/keras/utils/dataset_utils.py\u001b[0m in \u001b[0;36mindex_directory\u001b[0;34m(directory, labels, formats, class_names, shuffle, seed, follow_links)\u001b[0m\n\u001b[1;32m    540\u001b[0m     \u001b[0;32melse\u001b[0m\u001b[0;34m:\u001b[0m\u001b[0;34m\u001b[0m\u001b[0;34m\u001b[0m\u001b[0m\n\u001b[1;32m    541\u001b[0m         \u001b[0msubdirs\u001b[0m \u001b[0;34m=\u001b[0m \u001b[0;34m[\u001b[0m\u001b[0;34m]\u001b[0m\u001b[0;34m\u001b[0m\u001b[0;34m\u001b[0m\u001b[0m\n\u001b[0;32m--> 542\u001b[0;31m         \u001b[0;32mfor\u001b[0m \u001b[0msubdir\u001b[0m \u001b[0;32min\u001b[0m \u001b[0msorted\u001b[0m\u001b[0;34m(\u001b[0m\u001b[0mtf\u001b[0m\u001b[0;34m.\u001b[0m\u001b[0mio\u001b[0m\u001b[0;34m.\u001b[0m\u001b[0mgfile\u001b[0m\u001b[0;34m.\u001b[0m\u001b[0mlistdir\u001b[0m\u001b[0;34m(\u001b[0m\u001b[0mdirectory\u001b[0m\u001b[0;34m)\u001b[0m\u001b[0;34m)\u001b[0m\u001b[0;34m:\u001b[0m\u001b[0;34m\u001b[0m\u001b[0;34m\u001b[0m\u001b[0m\n\u001b[0m\u001b[1;32m    543\u001b[0m             \u001b[0;32mif\u001b[0m \u001b[0mtf\u001b[0m\u001b[0;34m.\u001b[0m\u001b[0mio\u001b[0m\u001b[0;34m.\u001b[0m\u001b[0mgfile\u001b[0m\u001b[0;34m.\u001b[0m\u001b[0misdir\u001b[0m\u001b[0;34m(\u001b[0m\u001b[0mtf\u001b[0m\u001b[0;34m.\u001b[0m\u001b[0mio\u001b[0m\u001b[0;34m.\u001b[0m\u001b[0mgfile\u001b[0m\u001b[0;34m.\u001b[0m\u001b[0mjoin\u001b[0m\u001b[0;34m(\u001b[0m\u001b[0mdirectory\u001b[0m\u001b[0;34m,\u001b[0m \u001b[0msubdir\u001b[0m\u001b[0;34m)\u001b[0m\u001b[0;34m)\u001b[0m\u001b[0;34m:\u001b[0m\u001b[0;34m\u001b[0m\u001b[0;34m\u001b[0m\u001b[0m\n\u001b[1;32m    544\u001b[0m                 \u001b[0;32mif\u001b[0m \u001b[0msubdir\u001b[0m\u001b[0;34m.\u001b[0m\u001b[0mendswith\u001b[0m\u001b[0;34m(\u001b[0m\u001b[0;34m\"/\"\u001b[0m\u001b[0;34m)\u001b[0m\u001b[0;34m:\u001b[0m\u001b[0;34m\u001b[0m\u001b[0;34m\u001b[0m\u001b[0m\n",
            "\u001b[0;32m/usr/local/lib/python3.9/dist-packages/tensorflow/python/lib/io/file_io.py\u001b[0m in \u001b[0;36mlist_directory_v2\u001b[0;34m(path)\u001b[0m\n\u001b[1;32m    766\u001b[0m   \"\"\"\n\u001b[1;32m    767\u001b[0m   \u001b[0;32mif\u001b[0m \u001b[0;32mnot\u001b[0m \u001b[0mis_directory\u001b[0m\u001b[0;34m(\u001b[0m\u001b[0mpath\u001b[0m\u001b[0;34m)\u001b[0m\u001b[0;34m:\u001b[0m\u001b[0;34m\u001b[0m\u001b[0;34m\u001b[0m\u001b[0m\n\u001b[0;32m--> 768\u001b[0;31m     raise errors.NotFoundError(\n\u001b[0m\u001b[1;32m    769\u001b[0m         \u001b[0mnode_def\u001b[0m\u001b[0;34m=\u001b[0m\u001b[0;32mNone\u001b[0m\u001b[0;34m,\u001b[0m\u001b[0;34m\u001b[0m\u001b[0;34m\u001b[0m\u001b[0m\n\u001b[1;32m    770\u001b[0m         \u001b[0mop\u001b[0m\u001b[0;34m=\u001b[0m\u001b[0;32mNone\u001b[0m\u001b[0;34m,\u001b[0m\u001b[0;34m\u001b[0m\u001b[0;34m\u001b[0m\u001b[0m\n",
            "\u001b[0;31mNotFoundError\u001b[0m: Could not find directory https://github.com/aditi-govindu/audio-gans/tree/main/data"
          ]
        }
      ],
      "source": [
        "train_ds = K.utils.image_dataset_from_directory(str(root),\n",
        "                                               validation_split = 0.2,\n",
        "                                               subset = 'training',\n",
        "                                               seed = 42,\n",
        "                                               image_size = (img_height, img_width),\n",
        "                                               batch_size = batch_size)\n",
        "\n",
        "test_ds = K.utils.image_dataset_from_directory(str(root),\n",
        "                                               validation_split = 0.2,\n",
        "                                               subset = 'validation',\n",
        "                                               seed = 42,\n",
        "                                               image_size = (img_height, img_width),\n",
        "                                               batch_size = batch_size)"
      ]
    },
    {
      "cell_type": "code",
      "execution_count": null,
      "id": "aab9e915",
      "metadata": {
        "id": "aab9e915",
        "outputId": "9ce33270-c15b-4740-a561-83ec320f20ac"
      },
      "outputs": [
        {
          "name": "stdout",
          "output_type": "stream",
          "text": [
            "['fake' 'real']\n"
          ]
        }
      ],
      "source": [
        "class_names = np.array(train_ds.class_names)\n",
        "print(class_names)"
      ]
    },
    {
      "cell_type": "code",
      "execution_count": null,
      "id": "9aa4ff8a",
      "metadata": {
        "id": "9aa4ff8a"
      },
      "outputs": [],
      "source": [
        "# Rescale images\n",
        "normalization_layer = tf.keras.layers.Rescaling(1./255)\n",
        "train_ds = train_ds.map(lambda x, y: (normalization_layer(x), y))\n",
        "test_ds = test_ds.map(lambda x, y: (normalization_layer(x), y))"
      ]
    },
    {
      "cell_type": "code",
      "execution_count": null,
      "id": "07fb7dfe",
      "metadata": {
        "id": "07fb7dfe",
        "outputId": "5850e8d7-1271-49c3-a759-148fd298a185"
      },
      "outputs": [
        {
          "name": "stdout",
          "output_type": "stream",
          "text": [
            "(16, 224, 224, 3)\n",
            "(16,)\n"
          ]
        }
      ],
      "source": [
        "# 32 (224*224*3) sized images in 1 batch\n",
        "for image_batch, labels_batch in train_ds:\n",
        "    print(image_batch.shape)\n",
        "    print(labels_batch.shape)\n",
        "    break"
      ]
    },
    {
      "cell_type": "code",
      "execution_count": null,
      "id": "313a756a",
      "metadata": {
        "id": "313a756a"
      },
      "outputs": [],
      "source": [
        "batch_size = 32\n",
        "epochs = 20"
      ]
    },
    {
      "cell_type": "code",
      "execution_count": null,
      "id": "16a15888",
      "metadata": {
        "id": "16a15888"
      },
      "outputs": [],
      "source": [
        "total_train_samples = len(train_ds)\n",
        "steps_per_epoch = tf.math.ceil(total_train_samples / batch_size)"
      ]
    },
    {
      "cell_type": "code",
      "execution_count": null,
      "id": "99bacab4",
      "metadata": {
        "id": "99bacab4"
      },
      "outputs": [],
      "source": [
        "total_val_samples = len(test_ds)\n",
        "validation_steps = tf.math.ceil(total_val_samples / batch_size)"
      ]
    },
    {
      "cell_type": "code",
      "execution_count": null,
      "id": "15d4c746",
      "metadata": {
        "id": "15d4c746"
      },
      "outputs": [],
      "source": []
    },
    {
      "cell_type": "markdown",
      "id": "c6cef199",
      "metadata": {
        "id": "c6cef199"
      },
      "source": [
        "# VGG Model"
      ]
    },
    {
      "cell_type": "code",
      "execution_count": null,
      "id": "41852b5d",
      "metadata": {
        "id": "41852b5d"
      },
      "outputs": [],
      "source": [
        "from tensorflow.keras.applications.vgg16 import VGG16"
      ]
    },
    {
      "cell_type": "code",
      "execution_count": null,
      "id": "69633b29",
      "metadata": {
        "id": "69633b29"
      },
      "outputs": [],
      "source": [
        "from tensorflow.keras.layers import Dense, Flatten, Dropout\n",
        "from tensorflow.keras.models import Model\n",
        "from tensorflow.keras.optimizers import Adam"
      ]
    },
    {
      "cell_type": "code",
      "execution_count": null,
      "id": "ea2a8562",
      "metadata": {
        "id": "ea2a8562"
      },
      "outputs": [],
      "source": [
        "input_shape = (224, 224, 3)"
      ]
    },
    {
      "cell_type": "code",
      "execution_count": null,
      "id": "f8435d1c",
      "metadata": {
        "id": "f8435d1c"
      },
      "outputs": [],
      "source": [
        "vgg16 = VGG16(weights='imagenet', include_top=False, input_shape=input_shape)"
      ]
    },
    {
      "cell_type": "code",
      "execution_count": null,
      "id": "30a3a539",
      "metadata": {
        "id": "30a3a539"
      },
      "outputs": [],
      "source": [
        "for layer in vgg16.layers:\n",
        "    layer.trainable = False"
      ]
    },
    {
      "cell_type": "code",
      "execution_count": null,
      "id": "1ef5c589",
      "metadata": {
        "id": "1ef5c589"
      },
      "outputs": [],
      "source": [
        "x = Flatten()(vgg16.output)\n",
        "x = Dense(256, activation='relu')(x)\n",
        "x = Dropout(0.5)(x)\n",
        "x = Dense(1, activation='sigmoid')(x)"
      ]
    },
    {
      "cell_type": "code",
      "execution_count": null,
      "id": "025226dd",
      "metadata": {
        "id": "025226dd"
      },
      "outputs": [],
      "source": [
        "model = Model(inputs=vgg16.input, outputs=x)"
      ]
    },
    {
      "cell_type": "code",
      "execution_count": null,
      "id": "f5a56ab3",
      "metadata": {
        "id": "f5a56ab3"
      },
      "outputs": [],
      "source": [
        "model.compile(loss='binary_crossentropy', optimizer=Adam(learning_rate=1e-5), metrics=['accuracy'])"
      ]
    },
    {
      "cell_type": "code",
      "execution_count": null,
      "id": "5d663ef1",
      "metadata": {
        "id": "5d663ef1"
      },
      "outputs": [],
      "source": [
        "batch_size = 32\n",
        "epochs = 20"
      ]
    },
    {
      "cell_type": "code",
      "execution_count": null,
      "id": "ce4bd6ea",
      "metadata": {
        "id": "ce4bd6ea",
        "outputId": "8bc04fe2-6d8c-40d3-b897-7a90d1b39a29"
      },
      "outputs": [
        {
          "data": {
            "text/plain": [
              "511"
            ]
          },
          "execution_count": 66,
          "metadata": {},
          "output_type": "execute_result"
        }
      ],
      "source": [
        "len(train_ds)"
      ]
    },
    {
      "cell_type": "code",
      "execution_count": null,
      "id": "4c653580",
      "metadata": {
        "id": "4c653580"
      },
      "outputs": [],
      "source": [
        "total_train_samples = len(train_ds)\n",
        "steps_per_epoch = tf.math.ceil(total_train_samples / batch_size)"
      ]
    },
    {
      "cell_type": "code",
      "execution_count": null,
      "id": "f9080aae",
      "metadata": {
        "id": "f9080aae",
        "outputId": "e4692f3f-f791-414d-e628-c8b5da319c9f"
      },
      "outputs": [
        {
          "data": {
            "text/plain": [
              "128"
            ]
          },
          "execution_count": 67,
          "metadata": {},
          "output_type": "execute_result"
        }
      ],
      "source": [
        "len(test_ds)"
      ]
    },
    {
      "cell_type": "code",
      "execution_count": null,
      "id": "9f74f36d",
      "metadata": {
        "id": "9f74f36d"
      },
      "outputs": [],
      "source": [
        "total_val_samples = len(test_ds)\n",
        "validation_steps = tf.math.ceil(total_val_samples / batch_size)"
      ]
    },
    {
      "cell_type": "code",
      "execution_count": null,
      "id": "fdcae791",
      "metadata": {
        "id": "fdcae791",
        "outputId": "db40b6c0-48bb-4814-fc4b-fe760e1ea966"
      },
      "outputs": [
        {
          "name": "stdout",
          "output_type": "stream",
          "text": [
            "Epoch 1/20\n",
            "8/8 [==============================] - 74s 3s/step - loss: 0.7435 - accuracy: 0.5273 - val_loss: 0.8631 - val_accuracy: 0.3750\n",
            "Epoch 2/20\n",
            "8/8 [==============================] - 22s 2s/step - loss: 0.7640 - accuracy: 0.5352 - val_loss: 0.6556 - val_accuracy: 0.5781\n",
            "Epoch 3/20\n",
            "8/8 [==============================] - 4s 503ms/step - loss: 0.6836 - accuracy: 0.5508 - val_loss: 0.6475 - val_accuracy: 0.6719\n",
            "Epoch 4/20\n",
            "8/8 [==============================] - 3s 454ms/step - loss: 0.6768 - accuracy: 0.5898 - val_loss: 0.6104 - val_accuracy: 0.7031\n",
            "Epoch 5/20\n",
            "8/8 [==============================] - 3s 441ms/step - loss: 0.6555 - accuracy: 0.6211 - val_loss: 0.5732 - val_accuracy: 0.7656\n",
            "Epoch 6/20\n",
            "8/8 [==============================] - 3s 421ms/step - loss: 0.6266 - accuracy: 0.6836 - val_loss: 0.5343 - val_accuracy: 0.7500\n",
            "Epoch 7/20\n",
            "8/8 [==============================] - 3s 429ms/step - loss: 0.5793 - accuracy: 0.6797 - val_loss: 0.5865 - val_accuracy: 0.7188\n",
            "Epoch 8/20\n",
            "8/8 [==============================] - 3s 433ms/step - loss: 0.5940 - accuracy: 0.6797 - val_loss: 0.5395 - val_accuracy: 0.7812\n",
            "Epoch 9/20\n",
            "8/8 [==============================] - 3s 422ms/step - loss: 0.5738 - accuracy: 0.7148 - val_loss: 0.5182 - val_accuracy: 0.8438\n",
            "Epoch 10/20\n",
            "8/8 [==============================] - 3s 437ms/step - loss: 0.5746 - accuracy: 0.6875 - val_loss: 0.4807 - val_accuracy: 0.8594\n",
            "Epoch 11/20\n",
            "8/8 [==============================] - 4s 460ms/step - loss: 0.5594 - accuracy: 0.6914 - val_loss: 0.5137 - val_accuracy: 0.8125\n",
            "Epoch 12/20\n",
            "8/8 [==============================] - 3s 424ms/step - loss: 0.5817 - accuracy: 0.7070 - val_loss: 0.4958 - val_accuracy: 0.8125\n",
            "Epoch 13/20\n",
            "8/8 [==============================] - 3s 432ms/step - loss: 0.5227 - accuracy: 0.7383 - val_loss: 0.4939 - val_accuracy: 0.8281\n",
            "Epoch 14/20\n",
            "8/8 [==============================] - 3s 419ms/step - loss: 0.5134 - accuracy: 0.7539 - val_loss: 0.5186 - val_accuracy: 0.8125\n",
            "Epoch 15/20\n",
            "8/8 [==============================] - 3s 424ms/step - loss: 0.5075 - accuracy: 0.7773 - val_loss: 0.4218 - val_accuracy: 0.7969\n",
            "Epoch 16/20\n",
            "8/8 [==============================] - 4s 501ms/step - loss: 0.5587 - accuracy: 0.7188 - val_loss: 0.4916 - val_accuracy: 0.7812\n",
            "Epoch 17/20\n",
            "8/8 [==============================] - 4s 508ms/step - loss: 0.4697 - accuracy: 0.7812 - val_loss: 0.5104 - val_accuracy: 0.7969\n",
            "Epoch 18/20\n",
            "8/8 [==============================] - 3s 419ms/step - loss: 0.4936 - accuracy: 0.7461 - val_loss: 0.4387 - val_accuracy: 0.7969\n",
            "Epoch 19/20\n",
            "8/8 [==============================] - 3s 418ms/step - loss: 0.4872 - accuracy: 0.7852 - val_loss: 0.4294 - val_accuracy: 0.7656\n",
            "Epoch 20/20\n",
            "8/8 [==============================] - 4s 491ms/step - loss: 0.4757 - accuracy: 0.7852 - val_loss: 0.4258 - val_accuracy: 0.8594\n"
          ]
        }
      ],
      "source": [
        "history = model.fit(train_ds, epochs=epochs, steps_per_epoch=steps_per_epoch,\n",
        "                    validation_data=test_ds, validation_steps=validation_steps,callbacks = tensorboard_callback)"
      ]
    },
    {
      "cell_type": "code",
      "execution_count": null,
      "id": "e01be89f",
      "metadata": {
        "id": "e01be89f",
        "outputId": "b9e1a234-23c4-4f6a-918e-3610e68a6450"
      },
      "outputs": [
        {
          "name": "stdout",
          "output_type": "stream",
          "text": [
            "64/64 [==============================] - 29s 453ms/step - loss: 0.4530 - accuracy: 0.8158\n",
            "Validation accuracy: 0.8157765865325928\n"
          ]
        }
      ],
      "source": [
        "loss, accuracy = model.evaluate(test_ds)\n",
        "print('Validation accuracy:', accuracy)"
      ]
    },
    {
      "cell_type": "code",
      "execution_count": null,
      "id": "652ac3fe",
      "metadata": {
        "id": "652ac3fe",
        "outputId": "d3cd01fc-b65a-4946-8855-f0ccb2629cbc"
      },
      "outputs": [
        {
          "name": "stdout",
          "output_type": "stream",
          "text": [
            "VGG: ['fake' 'fake' 'fake' 'fake' 'fake' 'fake' 'fake' 'fake' 'fake' 'fake'\n",
            " 'fake' 'fake' 'fake' 'fake' 'fake' 'fake' 'fake' 'fake' 'fake' 'fake'\n",
            " 'fake' 'fake' 'fake' 'fake' 'fake' 'fake' 'fake' 'fake' 'fake' 'fake'\n",
            " 'fake' 'fake']\n"
          ]
        }
      ],
      "source": [
        "predicted_batch = model.predict(image_batch)\n",
        "predicted_id = tf.math.argmax(predicted_batch, axis=-1)\n",
        "predicted_label_batch = class_names[predicted_id]\n",
        "print('VGG:',predicted_label_batch)"
      ]
    },
    {
      "cell_type": "code",
      "execution_count": null,
      "id": "85da5df4",
      "metadata": {
        "id": "85da5df4",
        "outputId": "ab5404da-64e6-49ad-9ee1-fef69a8a26ad"
      },
      "outputs": [
        {
          "data": {
            "image/png": "[encoded data removed]",
            "text/plain": [
              "<Figure size 432x288 with 1 Axes>"
            ]
          },
          "metadata": {
            "needs_background": "light"
          },
          "output_type": "display_data"
        },
        {
          "data": {
            "image/png": "[encoded data removed]",
            "text/plain": [
              "<Figure size 432x288 with 1 Axes>"
            ]
          },
          "metadata": {
            "needs_background": "light"
          },
          "output_type": "display_data"
        }
      ],
      "source": [
        "acc = history.history['accuracy']\n",
        "val_acc = history.history['val_accuracy']\n",
        "loss = history.history['loss']\n",
        "val_loss = history.history['val_loss']\n",
        "\n",
        "epochs = range(len(acc))\n",
        "\n",
        "plt.plot(epochs, acc, 'r', label='Training accuracy')\n",
        "plt.plot(epochs, val_acc, 'b', label='Validation accuracy')\n",
        "plt.title('Training and validation accuracy')\n",
        "plt.legend()\n",
        "\n",
        "plt.figure()\n",
        "\n",
        "plt.plot(epochs, loss, 'r', label='Training loss')\n",
        "plt.plot(epochs, val_loss, 'b', label='Validation loss')\n",
        "plt.title('Training and validation loss')\n",
        "plt.legend()\n",
        "\n",
        "plt.show()"
      ]
    },
    {
      "cell_type": "code",
      "execution_count": null,
      "id": "012ada43",
      "metadata": {
        "id": "012ada43",
        "outputId": "15ed5a98-69e7-4e4a-e341-d4e7a2b389bb"
      },
      "outputs": [
        {
          "name": "stdout",
          "output_type": "stream",
          "text": [
            "INFO:tensorflow:Assets written to: Capstone/saved_model/my_vgg16\\assets\n"
          ]
        }
      ],
      "source": [
        "# View weights learnt by the model\n",
        "model.save_weights('./checkpoints/my_checkpoint1')\n",
        "model.save('Capstone/saved_model/my_vgg16')"
      ]
    },
    {
      "cell_type": "code",
      "execution_count": null,
      "id": "90a3d47c",
      "metadata": {
        "colab": {
          "referenced_widgets": [
            "fc89d4abfaba4e04a1e3e948a9d170e2"
          ]
        },
        "id": "90a3d47c",
        "outputId": "4d8f8298-5ccd-407e-bfae-5f5b3a460483"
      },
      "outputs": [
        {
          "data": {
            "application/vnd.jupyter.widget-view+json": {
              "model_id": "fc89d4abfaba4e04a1e3e948a9d170e2",
              "version_major": 2,
              "version_minor": 0
            },
            "text/plain": [
              "  0%|          | 0/1000 [00:00<?, ?it/s]"
            ]
          },
          "metadata": {},
          "output_type": "display_data"
        },
        {
          "data": {
            "image/png": "[encoded data removed]",
            "text/plain": [
              "<Figure size 432x288 with 1 Axes>"
            ]
          },
          "metadata": {
            "needs_background": "light"
          },
          "output_type": "display_data"
        }
      ],
      "source": [
        "import lime.lime_image\n",
        "\n",
        "explainer = lime.lime_image.LimeImageExplainer()\n",
        "exp = explainer.explain_instance(np.array(image_batch[0]).astype('double'),\n",
        "                                model.predict,\n",
        "                                hide_color = 0,\n",
        "                                num_samples = 1000)\n",
        "plt.imshow(exp.segments)\n",
        "plt.axis('off')\n",
        "plt.show()"
      ]
    },
    {
      "cell_type": "code",
      "execution_count": null,
      "id": "a35e705b",
      "metadata": {
        "id": "a35e705b",
        "outputId": "bd4e085a-eff4-4b84-cc36-4f6ac951ccfc"
      },
      "outputs": [
        {
          "ename": "IndexError",
          "evalue": "list index out of range",
          "output_type": "error",
          "traceback": [
            "\u001b[1;31m---------------------------------------------------------------------------\u001b[0m",
            "\u001b[1;31mIndexError\u001b[0m                                Traceback (most recent call last)",
            "\u001b[1;32m<ipython-input-33-47ecf7ef5a13>\u001b[0m in \u001b[0;36m<module>\u001b[1;34m\u001b[0m\n\u001b[0;32m      1\u001b[0m \u001b[1;31m# Features of spectrogram used to identify data as fake -> 1\u001b[0m\u001b[1;33m\u001b[0m\u001b[1;33m\u001b[0m\u001b[1;33m\u001b[0m\u001b[0m\n\u001b[1;32m----> 2\u001b[1;33m \u001b[0mgenerate_prediction_sample\u001b[0m\u001b[1;33m(\u001b[0m\u001b[0mexp\u001b[0m\u001b[1;33m,\u001b[0m \u001b[0mexp\u001b[0m\u001b[1;33m.\u001b[0m\u001b[0mtop_labels\u001b[0m\u001b[1;33m[\u001b[0m\u001b[1;36m1\u001b[0m\u001b[1;33m]\u001b[0m\u001b[1;33m,\u001b[0m \u001b[0mshow_positive\u001b[0m \u001b[1;33m=\u001b[0m \u001b[1;32mTrue\u001b[0m\u001b[1;33m,\u001b[0m \u001b[0mhide_background\u001b[0m \u001b[1;33m=\u001b[0m \u001b[1;32mTrue\u001b[0m\u001b[1;33m)\u001b[0m\u001b[1;33m\u001b[0m\u001b[1;33m\u001b[0m\u001b[0m\n\u001b[0m",
            "\u001b[1;31mIndexError\u001b[0m: list index out of range"
          ]
        }
      ],
      "source": [
        "# Features of spectrogram used to identify data as fake -> 1\n",
        "generate_prediction_sample(exp, exp.top_labels[1], show_positive = True, hide_background = True)"
      ]
    },
    {
      "cell_type": "code",
      "execution_count": null,
      "id": "4930e996",
      "metadata": {
        "id": "4930e996",
        "outputId": "fc0e8c01-42b9-49d1-eba2-8b0ae7abb039"
      },
      "outputs": [
        {
          "data": {
            "image/png": "[encoded data removed]",
            "text/plain": [
              "<Figure size 432x288 with 1 Axes>"
            ]
          },
          "metadata": {
            "needs_background": "light"
          },
          "output_type": "display_data"
        }
      ],
      "source": [
        "# Features of spectrogram used to identify data as real -> 0\n",
        "generate_prediction_sample(exp, exp.top_labels[0], show_positive = True, hide_background = True)"
      ]
    },
    {
      "cell_type": "markdown",
      "id": "526860ec",
      "metadata": {
        "id": "526860ec"
      },
      "source": [
        "# Inception"
      ]
    },
    {
      "cell_type": "code",
      "execution_count": null,
      "id": "6468d979",
      "metadata": {
        "id": "6468d979"
      },
      "outputs": [],
      "source": [
        "# Load data parameters\n",
        "batch_size_inception = 16"
      ]
    },
    {
      "cell_type": "code",
      "execution_count": null,
      "id": "96cd9360",
      "metadata": {
        "id": "96cd9360",
        "outputId": "0dcefa55-a6d1-46c6-ba2a-9fde244fc148"
      },
      "outputs": [
        {
          "name": "stdout",
          "output_type": "stream",
          "text": [
            "Found 10208 files belonging to 2 classes.\n",
            "Using 8167 files for training.\n",
            "Found 10208 files belonging to 2 classes.\n",
            "Using 2041 files for validation.\n"
          ]
        }
      ],
      "source": [
        "train_ds_inception = K.utils.image_dataset_from_directory(str(root),\n",
        "                                               validation_split = 0.2,\n",
        "                                               subset = 'training',\n",
        "                                               seed = 42,\n",
        "                                               image_size = (img_height, img_width),\n",
        "                                               batch_size = batch_size_inception)\n",
        "\n",
        "test_ds_inception = K.utils.image_dataset_from_directory(str(root),\n",
        "                                               validation_split = 0.2,\n",
        "                                               subset = 'validation',\n",
        "                                               seed = 42,\n",
        "                                               image_size = (img_height, img_width),\n",
        "                                               batch_size = batch_size_inception)"
      ]
    },
    {
      "cell_type": "code",
      "execution_count": null,
      "id": "a4be4f6a",
      "metadata": {
        "id": "a4be4f6a"
      },
      "outputs": [],
      "source": [
        "total_train_samples = len(train_ds)\n",
        "steps_per_epoch_inception = tf.math.ceil(total_train_samples / batch_size)"
      ]
    },
    {
      "cell_type": "code",
      "execution_count": null,
      "id": "39862f65",
      "metadata": {
        "id": "39862f65"
      },
      "outputs": [],
      "source": [
        "total_val_samples = len(test_ds)\n",
        "validation_steps_inception = tf.math.ceil(total_val_samples / batch_size)"
      ]
    },
    {
      "cell_type": "code",
      "execution_count": null,
      "id": "efa0eb87",
      "metadata": {
        "id": "efa0eb87"
      },
      "outputs": [],
      "source": [
        "base_model = tf.keras.applications.InceptionV3(\n",
        "    input_shape=(img_height, img_width, 3),\n",
        "    include_top=False,\n",
        "    weights='imagenet')"
      ]
    },
    {
      "cell_type": "code",
      "execution_count": null,
      "id": "0b87f7f4",
      "metadata": {
        "id": "0b87f7f4"
      },
      "outputs": [],
      "source": [
        "NUM_CLASSES = 2"
      ]
    },
    {
      "cell_type": "code",
      "execution_count": null,
      "id": "433b54e2",
      "metadata": {
        "id": "433b54e2"
      },
      "outputs": [],
      "source": [
        "global_average_layer = tf.keras.layers.GlobalAveragePooling2D()\n",
        "dense_layer = tf.keras.layers.Dense(64, activation='relu')\n",
        "prediction_layer = tf.keras.layers.Dense(NUM_CLASSES, activation='softmax')\n",
        "\n",
        "inception_model = tf.keras.Sequential([\n",
        "    base_model,\n",
        "    global_average_layer,\n",
        "    dense_layer,\n",
        "    prediction_layer\n",
        "])"
      ]
    },
    {
      "cell_type": "code",
      "execution_count": null,
      "id": "3e2f9da7",
      "metadata": {
        "id": "3e2f9da7"
      },
      "outputs": [],
      "source": [
        "inception_model.compile(optimizer=tf.keras.optimizers.Adam(),\n",
        "              loss=tf.keras.losses.SparseCategoricalCrossentropy(from_logits=True),\n",
        "              metrics=['accuracy'])"
      ]
    },
    {
      "cell_type": "code",
      "execution_count": null,
      "id": "dc4fdd8f",
      "metadata": {
        "id": "dc4fdd8f",
        "outputId": "6d79ed84-4c69-4d0f-d61e-ee14b6877267"
      },
      "outputs": [
        {
          "name": "stdout",
          "output_type": "stream",
          "text": [
            "Epoch 1/15\n",
            "32/32 [==============================] - 37s 769ms/step - loss: 0.5039 - accuracy: 0.8008 - val_loss: 3.5307 - val_accuracy: 0.5469\n",
            "Epoch 2/15\n",
            "32/32 [==============================] - 13s 416ms/step - loss: 0.3637 - accuracy: 0.8613 - val_loss: 4.5796 - val_accuracy: 0.4766\n",
            "Epoch 3/15\n",
            "32/32 [==============================] - 13s 415ms/step - loss: 0.2540 - accuracy: 0.8926 - val_loss: 3.5487 - val_accuracy: 0.7969\n",
            "Epoch 4/15\n",
            "32/32 [==============================] - 14s 437ms/step - loss: 0.2937 - accuracy: 0.8906 - val_loss: 0.7478 - val_accuracy: 0.7656\n",
            "Epoch 5/15\n",
            "32/32 [==============================] - 13s 411ms/step - loss: 0.2227 - accuracy: 0.9141 - val_loss: 5.2347 - val_accuracy: 0.3906\n",
            "Epoch 6/15\n",
            "32/32 [==============================] - 14s 427ms/step - loss: 0.2028 - accuracy: 0.9199 - val_loss: 4.0942 - val_accuracy: 0.5156\n",
            "Epoch 7/15\n",
            "32/32 [==============================] - 13s 415ms/step - loss: 0.2615 - accuracy: 0.9121 - val_loss: 0.1463 - val_accuracy: 0.9375\n",
            "Epoch 8/15\n",
            "32/32 [==============================] - 13s 420ms/step - loss: 0.2367 - accuracy: 0.9023 - val_loss: 2.0266 - val_accuracy: 0.5859\n",
            "Epoch 9/15\n",
            "32/32 [==============================] - 14s 452ms/step - loss: 0.1893 - accuracy: 0.9258 - val_loss: 1.8212 - val_accuracy: 0.5000\n",
            "Epoch 10/15\n",
            "32/32 [==============================] - 14s 440ms/step - loss: 0.1614 - accuracy: 0.9434 - val_loss: 1.3516 - val_accuracy: 0.8438\n",
            "Epoch 11/15\n",
            "32/32 [==============================] - 14s 437ms/step - loss: 0.0888 - accuracy: 0.9785 - val_loss: 1.1698 - val_accuracy: 0.6562\n",
            "Epoch 12/15\n",
            "32/32 [==============================] - 14s 425ms/step - loss: 0.2226 - accuracy: 0.9238 - val_loss: 0.6707 - val_accuracy: 0.6953\n",
            "Epoch 13/15\n",
            "32/32 [==============================] - 14s 423ms/step - loss: 0.1402 - accuracy: 0.9512 - val_loss: 6.4378 - val_accuracy: 0.4922\n",
            "Epoch 14/15\n",
            "32/32 [==============================] - 14s 438ms/step - loss: 0.1074 - accuracy: 0.9648 - val_loss: 9.4992 - val_accuracy: 0.4609\n",
            "Epoch 15/15\n",
            "32/32 [==============================] - 14s 439ms/step - loss: 0.1608 - accuracy: 0.9473 - val_loss: 7.0753 - val_accuracy: 0.5703\n"
          ]
        }
      ],
      "source": [
        "history_inception = inception_model.fit(\n",
        "    train_ds,\n",
        "    epochs=15,\n",
        "    steps_per_epoch=steps_per_epoch_inception,\n",
        "    validation_data=test_ds,\n",
        "    validation_steps=validation_steps_inception,callbacks = tensorboard_callback)"
      ]
    },
    {
      "cell_type": "code",
      "execution_count": null,
      "id": "3744cd60",
      "metadata": {
        "id": "3744cd60",
        "outputId": "97677549-63c0-403a-9bef-0ce34258052c"
      },
      "outputs": [
        {
          "name": "stdout",
          "output_type": "stream",
          "text": [
            "128/128 [==============================] - 15s 115ms/step - loss: 2.2095 - accuracy: 0.5478\n"
          ]
        },
        {
          "data": {
            "text/plain": [
              "[2.2094531059265137, 0.5477706789970398]"
            ]
          },
          "execution_count": 68,
          "metadata": {},
          "output_type": "execute_result"
        }
      ],
      "source": [
        "inception_model.evaluate(test_ds)"
      ]
    },
    {
      "cell_type": "markdown",
      "id": "aab08348",
      "metadata": {
        "id": "aab08348"
      },
      "source": [
        "# VGG-16"
      ]
    },
    {
      "cell_type": "code",
      "execution_count": null,
      "id": "f750e4e5",
      "metadata": {
        "id": "f750e4e5",
        "outputId": "29dfc2a3-1521-4ee3-f7ce-063bc5c67d69"
      },
      "outputs": [
        {
          "name": "stdout",
          "output_type": "stream",
          "text": [
            "Model: \"sequential_1\"\n",
            "_________________________________________________________________\n",
            "Layer (type)                 Output Shape              Param #   \n",
            "=================================================================\n",
            "vgg16 (Functional)           (None, 7, 7, 512)         14714688  \n",
            "_________________________________________________________________\n",
            "flatten_1 (Flatten)          (None, 25088)             0         \n",
            "_________________________________________________________________\n",
            "dense_3 (Dense)              (None, 512)               12845568  \n",
            "_________________________________________________________________\n",
            "dropout_2 (Dropout)          (None, 512)               0         \n",
            "_________________________________________________________________\n",
            "dense_4 (Dense)              (None, 512)               262656    \n",
            "_________________________________________________________________\n",
            "dropout_3 (Dropout)          (None, 512)               0         \n",
            "_________________________________________________________________\n",
            "dense_5 (Dense)              (None, 1)                 513       \n",
            "=================================================================\n",
            "Total params: 27,823,425\n",
            "Trainable params: 27,823,425\n",
            "Non-trainable params: 0\n",
            "_________________________________________________________________\n"
          ]
        }
      ],
      "source": [
        "model_vgg = Sequential()\n",
        "\n",
        "# Include top - False skips the last FCN layers, that can be customized as per the user\n",
        "model_vgg.add(VGG16(include_top = False, weights = 'imagenet', input_shape = (img_height, img_width, channels)))\n",
        "model_vgg.add(Flatten())\n",
        "\n",
        "model_vgg.add(Dense(512, activation = 'relu'))\n",
        "model_vgg.add(tf.keras.layers.Dropout(0.3))\n",
        "model_vgg.add(Dense(512, activation = 'relu'))\n",
        "model_vgg.add(tf.keras.layers.Dropout(0.3))\n",
        "model_vgg.add(Dense(1, activation = 'softmax'))\n",
        "model_vgg.compile(optimizer = 'adam', loss = 'binary_crossentropy', metrics=['acc'])\n",
        "\n",
        "model_vgg.summary()"
      ]
    },
    {
      "cell_type": "code",
      "execution_count": null,
      "id": "97f5f980",
      "metadata": {
        "id": "97f5f980"
      },
      "outputs": [],
      "source": [
        "log_dir = \"logs/fit/\" + \"vgg16-\" + datetime.datetime.now().strftime(\"%Y%m%d-%H%M%S\")\n",
        "\n",
        "tensorboard_callback = tf.keras.callbacks.TensorBoard(log_dir=log_dir, histogram_freq = 1)"
      ]
    },
    {
      "cell_type": "code",
      "execution_count": null,
      "id": "c5cc4fb5",
      "metadata": {
        "id": "c5cc4fb5",
        "outputId": "097b8c46-b3cd-41c9-9578-3fe357cb44d1"
      },
      "outputs": [
        {
          "name": "stdout",
          "output_type": "stream",
          "text": [
            "Epoch 1/2\n"
          ]
        },
        {
          "ename": "ResourceExhaustedError",
          "evalue": " OOM when allocating tensor with shape[32,256,56,56] and type float on /job:localhost/replica:0/task:0/device:GPU:0 by allocator GPU_0_bfc\n\t [[node sequential_1/vgg16/block3_conv2/Relu (defined at <ipython-input-13-a3f587a74b35>:5) ]]\nHint: If you want to see a list of allocated tensors when OOM happens, add report_tensor_allocations_upon_oom to RunOptions for current allocation info. This isn't available when running in Eager mode.\n [Op:__inference_train_function_2644]\n\nFunction call stack:\ntrain_function\n",
          "output_type": "error",
          "traceback": [
            "\u001b[1;31m---------------------------------------------------------------------------\u001b[0m",
            "\u001b[1;31mResourceExhaustedError\u001b[0m                    Traceback (most recent call last)",
            "\u001b[1;32m<ipython-input-14-a3f587a74b35>\u001b[0m in \u001b[0;36m<module>\u001b[1;34m\u001b[0m\n\u001b[0;32m      3\u001b[0m                     \u001b[0mvalidation_data\u001b[0m \u001b[1;33m=\u001b[0m \u001b[0mtest_ds\u001b[0m\u001b[1;33m,\u001b[0m\u001b[1;33m\u001b[0m\u001b[1;33m\u001b[0m\u001b[0m\n\u001b[0;32m      4\u001b[0m                     \u001b[0mepochs\u001b[0m \u001b[1;33m=\u001b[0m \u001b[1;36m2\u001b[0m\u001b[1;33m,\u001b[0m\u001b[1;33m\u001b[0m\u001b[1;33m\u001b[0m\u001b[0m\n\u001b[1;32m----> 5\u001b[1;33m                     callbacks = tensorboard_callback)\n\u001b[0m",
            "\u001b[1;32mE:\\Python\\envs\\gpuenv\\lib\\site-packages\\keras\\engine\\training.py\u001b[0m in \u001b[0;36mfit\u001b[1;34m(self, x, y, batch_size, epochs, verbose, callbacks, validation_split, validation_data, shuffle, class_weight, sample_weight, initial_epoch, steps_per_epoch, validation_steps, validation_batch_size, validation_freq, max_queue_size, workers, use_multiprocessing)\u001b[0m\n\u001b[0;32m   1182\u001b[0m                 _r=1):\n\u001b[0;32m   1183\u001b[0m               \u001b[0mcallbacks\u001b[0m\u001b[1;33m.\u001b[0m\u001b[0mon_train_batch_begin\u001b[0m\u001b[1;33m(\u001b[0m\u001b[0mstep\u001b[0m\u001b[1;33m)\u001b[0m\u001b[1;33m\u001b[0m\u001b[1;33m\u001b[0m\u001b[0m\n\u001b[1;32m-> 1184\u001b[1;33m               \u001b[0mtmp_logs\u001b[0m \u001b[1;33m=\u001b[0m \u001b[0mself\u001b[0m\u001b[1;33m.\u001b[0m\u001b[0mtrain_function\u001b[0m\u001b[1;33m(\u001b[0m\u001b[0miterator\u001b[0m\u001b[1;33m)\u001b[0m\u001b[1;33m\u001b[0m\u001b[1;33m\u001b[0m\u001b[0m\n\u001b[0m\u001b[0;32m   1185\u001b[0m               \u001b[1;32mif\u001b[0m \u001b[0mdata_handler\u001b[0m\u001b[1;33m.\u001b[0m\u001b[0mshould_sync\u001b[0m\u001b[1;33m:\u001b[0m\u001b[1;33m\u001b[0m\u001b[1;33m\u001b[0m\u001b[0m\n\u001b[0;32m   1186\u001b[0m                 \u001b[0mcontext\u001b[0m\u001b[1;33m.\u001b[0m\u001b[0masync_wait\u001b[0m\u001b[1;33m(\u001b[0m\u001b[1;33m)\u001b[0m\u001b[1;33m\u001b[0m\u001b[1;33m\u001b[0m\u001b[0m\n",
            "\u001b[1;32mE:\\Python\\envs\\gpuenv\\lib\\site-packages\\tensorflow\\python\\eager\\def_function.py\u001b[0m in \u001b[0;36m__call__\u001b[1;34m(self, *args, **kwds)\u001b[0m\n\u001b[0;32m    883\u001b[0m \u001b[1;33m\u001b[0m\u001b[0m\n\u001b[0;32m    884\u001b[0m       \u001b[1;32mwith\u001b[0m \u001b[0mOptionalXlaContext\u001b[0m\u001b[1;33m(\u001b[0m\u001b[0mself\u001b[0m\u001b[1;33m.\u001b[0m\u001b[0m_jit_compile\u001b[0m\u001b[1;33m)\u001b[0m\u001b[1;33m:\u001b[0m\u001b[1;33m\u001b[0m\u001b[1;33m\u001b[0m\u001b[0m\n\u001b[1;32m--> 885\u001b[1;33m         \u001b[0mresult\u001b[0m \u001b[1;33m=\u001b[0m \u001b[0mself\u001b[0m\u001b[1;33m.\u001b[0m\u001b[0m_call\u001b[0m\u001b[1;33m(\u001b[0m\u001b[1;33m*\u001b[0m\u001b[0margs\u001b[0m\u001b[1;33m,\u001b[0m \u001b[1;33m**\u001b[0m\u001b[0mkwds\u001b[0m\u001b[1;33m)\u001b[0m\u001b[1;33m\u001b[0m\u001b[1;33m\u001b[0m\u001b[0m\n\u001b[0m\u001b[0;32m    886\u001b[0m \u001b[1;33m\u001b[0m\u001b[0m\n\u001b[0;32m    887\u001b[0m       \u001b[0mnew_tracing_count\u001b[0m \u001b[1;33m=\u001b[0m \u001b[0mself\u001b[0m\u001b[1;33m.\u001b[0m\u001b[0mexperimental_get_tracing_count\u001b[0m\u001b[1;33m(\u001b[0m\u001b[1;33m)\u001b[0m\u001b[1;33m\u001b[0m\u001b[1;33m\u001b[0m\u001b[0m\n",
            "\u001b[1;32mE:\\Python\\envs\\gpuenv\\lib\\site-packages\\tensorflow\\python\\eager\\def_function.py\u001b[0m in \u001b[0;36m_call\u001b[1;34m(self, *args, **kwds)\u001b[0m\n\u001b[0;32m    915\u001b[0m       \u001b[1;31m# In this case we have created variables on the first call, so we run the\u001b[0m\u001b[1;33m\u001b[0m\u001b[1;33m\u001b[0m\u001b[1;33m\u001b[0m\u001b[0m\n\u001b[0;32m    916\u001b[0m       \u001b[1;31m# defunned version which is guaranteed to never create variables.\u001b[0m\u001b[1;33m\u001b[0m\u001b[1;33m\u001b[0m\u001b[1;33m\u001b[0m\u001b[0m\n\u001b[1;32m--> 917\u001b[1;33m       \u001b[1;32mreturn\u001b[0m \u001b[0mself\u001b[0m\u001b[1;33m.\u001b[0m\u001b[0m_stateless_fn\u001b[0m\u001b[1;33m(\u001b[0m\u001b[1;33m*\u001b[0m\u001b[0margs\u001b[0m\u001b[1;33m,\u001b[0m \u001b[1;33m**\u001b[0m\u001b[0mkwds\u001b[0m\u001b[1;33m)\u001b[0m  \u001b[1;31m# pylint: disable=not-callable\u001b[0m\u001b[1;33m\u001b[0m\u001b[1;33m\u001b[0m\u001b[0m\n\u001b[0m\u001b[0;32m    918\u001b[0m     \u001b[1;32melif\u001b[0m \u001b[0mself\u001b[0m\u001b[1;33m.\u001b[0m\u001b[0m_stateful_fn\u001b[0m \u001b[1;32mis\u001b[0m \u001b[1;32mnot\u001b[0m \u001b[1;32mNone\u001b[0m\u001b[1;33m:\u001b[0m\u001b[1;33m\u001b[0m\u001b[1;33m\u001b[0m\u001b[0m\n\u001b[0;32m    919\u001b[0m       \u001b[1;31m# Release the lock early so that multiple threads can perform the call\u001b[0m\u001b[1;33m\u001b[0m\u001b[1;33m\u001b[0m\u001b[1;33m\u001b[0m\u001b[0m\n",
            "\u001b[1;32mE:\\Python\\envs\\gpuenv\\lib\\site-packages\\tensorflow\\python\\eager\\function.py\u001b[0m in \u001b[0;36m__call__\u001b[1;34m(self, *args, **kwargs)\u001b[0m\n\u001b[0;32m   3038\u001b[0m        filtered_flat_args) = self._maybe_define_function(args, kwargs)\n\u001b[0;32m   3039\u001b[0m     return graph_function._call_flat(\n\u001b[1;32m-> 3040\u001b[1;33m         filtered_flat_args, captured_inputs=graph_function.captured_inputs)  # pylint: disable=protected-access\n\u001b[0m\u001b[0;32m   3041\u001b[0m \u001b[1;33m\u001b[0m\u001b[0m\n\u001b[0;32m   3042\u001b[0m   \u001b[1;33m@\u001b[0m\u001b[0mproperty\u001b[0m\u001b[1;33m\u001b[0m\u001b[1;33m\u001b[0m\u001b[0m\n",
            "\u001b[1;32mE:\\Python\\envs\\gpuenv\\lib\\site-packages\\tensorflow\\python\\eager\\function.py\u001b[0m in \u001b[0;36m_call_flat\u001b[1;34m(self, args, captured_inputs, cancellation_manager)\u001b[0m\n\u001b[0;32m   1962\u001b[0m       \u001b[1;31m# No tape is watching; skip to running the function.\u001b[0m\u001b[1;33m\u001b[0m\u001b[1;33m\u001b[0m\u001b[1;33m\u001b[0m\u001b[0m\n\u001b[0;32m   1963\u001b[0m       return self._build_call_outputs(self._inference_function.call(\n\u001b[1;32m-> 1964\u001b[1;33m           ctx, args, cancellation_manager=cancellation_manager))\n\u001b[0m\u001b[0;32m   1965\u001b[0m     forward_backward = self._select_forward_and_backward_functions(\n\u001b[0;32m   1966\u001b[0m         \u001b[0margs\u001b[0m\u001b[1;33m,\u001b[0m\u001b[1;33m\u001b[0m\u001b[1;33m\u001b[0m\u001b[0m\n",
            "\u001b[1;32mE:\\Python\\envs\\gpuenv\\lib\\site-packages\\tensorflow\\python\\eager\\function.py\u001b[0m in \u001b[0;36mcall\u001b[1;34m(self, ctx, args, cancellation_manager)\u001b[0m\n\u001b[0;32m    594\u001b[0m               \u001b[0minputs\u001b[0m\u001b[1;33m=\u001b[0m\u001b[0margs\u001b[0m\u001b[1;33m,\u001b[0m\u001b[1;33m\u001b[0m\u001b[1;33m\u001b[0m\u001b[0m\n\u001b[0;32m    595\u001b[0m               \u001b[0mattrs\u001b[0m\u001b[1;33m=\u001b[0m\u001b[0mattrs\u001b[0m\u001b[1;33m,\u001b[0m\u001b[1;33m\u001b[0m\u001b[1;33m\u001b[0m\u001b[0m\n\u001b[1;32m--> 596\u001b[1;33m               ctx=ctx)\n\u001b[0m\u001b[0;32m    597\u001b[0m         \u001b[1;32melse\u001b[0m\u001b[1;33m:\u001b[0m\u001b[1;33m\u001b[0m\u001b[1;33m\u001b[0m\u001b[0m\n\u001b[0;32m    598\u001b[0m           outputs = execute.execute_with_cancellation(\n",
            "\u001b[1;32mE:\\Python\\envs\\gpuenv\\lib\\site-packages\\tensorflow\\python\\eager\\execute.py\u001b[0m in \u001b[0;36mquick_execute\u001b[1;34m(op_name, num_outputs, inputs, attrs, ctx, name)\u001b[0m\n\u001b[0;32m     58\u001b[0m     \u001b[0mctx\u001b[0m\u001b[1;33m.\u001b[0m\u001b[0mensure_initialized\u001b[0m\u001b[1;33m(\u001b[0m\u001b[1;33m)\u001b[0m\u001b[1;33m\u001b[0m\u001b[1;33m\u001b[0m\u001b[0m\n\u001b[0;32m     59\u001b[0m     tensors = pywrap_tfe.TFE_Py_Execute(ctx._handle, device_name, op_name,\n\u001b[1;32m---> 60\u001b[1;33m                                         inputs, attrs, num_outputs)\n\u001b[0m\u001b[0;32m     61\u001b[0m   \u001b[1;32mexcept\u001b[0m \u001b[0mcore\u001b[0m\u001b[1;33m.\u001b[0m\u001b[0m_NotOkStatusException\u001b[0m \u001b[1;32mas\u001b[0m \u001b[0me\u001b[0m\u001b[1;33m:\u001b[0m\u001b[1;33m\u001b[0m\u001b[1;33m\u001b[0m\u001b[0m\n\u001b[0;32m     62\u001b[0m     \u001b[1;32mif\u001b[0m \u001b[0mname\u001b[0m \u001b[1;32mis\u001b[0m \u001b[1;32mnot\u001b[0m \u001b[1;32mNone\u001b[0m\u001b[1;33m:\u001b[0m\u001b[1;33m\u001b[0m\u001b[1;33m\u001b[0m\u001b[0m\n",
            "\u001b[1;31mResourceExhaustedError\u001b[0m:  OOM when allocating tensor with shape[32,256,56,56] and type float on /job:localhost/replica:0/task:0/device:GPU:0 by allocator GPU_0_bfc\n\t [[node sequential_1/vgg16/block3_conv2/Relu (defined at <ipython-input-13-a3f587a74b35>:5) ]]\nHint: If you want to see a list of allocated tensors when OOM happens, add report_tensor_allocations_upon_oom to RunOptions for current allocation info. This isn't available when running in Eager mode.\n [Op:__inference_train_function_2644]\n\nFunction call stack:\ntrain_function\n"
          ]
        }
      ],
      "source": [
        "# Takes a loooong time, hence 5 epochs only\n",
        "history = model_vgg.fit(train_ds,\n",
        "                    validation_data = test_ds,\n",
        "                    epochs = 2,\n",
        "                    callbacks = tensorboard_callback)"
      ]
    },
    {
      "cell_type": "code",
      "execution_count": null,
      "id": "6434ba8a",
      "metadata": {
        "id": "6434ba8a"
      },
      "outputs": [],
      "source": [
        "# Check predictions\n",
        "predicted_batch = model_vgg.predict(image_batch)\n",
        "predicted_id = tf.math.argmax(predicted_batch, axis=-1)\n",
        "predicted_label_batch = class_names[predicted_id]\n",
        "print('VGG 16:',predicted_label_batch)"
      ]
    },
    {
      "cell_type": "code",
      "execution_count": null,
      "id": "5bf2cc47",
      "metadata": {
        "id": "5bf2cc47",
        "outputId": "e7bc2c41-41ae-409e-f480-dffabb9c1c0e"
      },
      "outputs": [
        {
          "data": {
            "image/png": "[encoded data removed]",
            "text/plain": [
              "<Figure size 432x288 with 1 Axes>"
            ]
          },
          "metadata": {
            "needs_background": "light"
          },
          "output_type": "display_data"
        }
      ],
      "source": [
        "# Plot accuracy curve\n",
        "acc = history.history['accuracy']\n",
        "val_acc = history.history['val_accuracy']\n",
        "epochs = range(1, len(acc) + 1)\n",
        "\n",
        "plt.plot(epochs, acc, '-', label='Training Accuracy')\n",
        "plt.plot(epochs, val_acc, ':', label='Validation Accuracy')\n",
        "plt.title('Training and Validation Accuracy of VGG-16')\n",
        "plt.xlabel('Epoch')\n",
        "plt.ylabel('Accuracy')\n",
        "plt.legend(loc='lower right')\n",
        "plt.show()"
      ]
    },
    {
      "cell_type": "code",
      "execution_count": null,
      "id": "b8d34052",
      "metadata": {
        "id": "b8d34052",
        "outputId": "afb61b34-5ea6-4012-a6db-9697756d3190"
      },
      "outputs": [
        {
          "data": {
            "image/png": "[encoded data removed]",
            "text/plain": [
              "<Figure size 432x288 with 1 Axes>"
            ]
          },
          "metadata": {
            "needs_background": "light"
          },
          "output_type": "display_data"
        }
      ],
      "source": [
        "# Plot loss curve\n",
        "loss = history.history['loss']\n",
        "val_loss = history.history['val_loss']\n",
        "epochs = range(1, len(acc) + 1)\n",
        "\n",
        "plt.plot(epochs, acc, '-', label='Training Loss')\n",
        "plt.plot(epochs, val_acc, ':', label='Validation Loss')\n",
        "plt.title('Training and Validation Loss of VGG-16')\n",
        "plt.xlabel('Epoch')\n",
        "plt.ylabel('Loss')\n",
        "plt.legend(loc='lower right')\n",
        "plt.show()"
      ]
    },
    {
      "cell_type": "code",
      "execution_count": null,
      "id": "61d80460",
      "metadata": {
        "id": "61d80460"
      },
      "outputs": [],
      "source": [
        "# View weights learnt by the model\n",
        "model_vgg.save_weights('./checkpoints/my_checkpoint1')\n",
        "model_vgg.save('Capstone/saved_model/my_vgg16')"
      ]
    },
    {
      "cell_type": "markdown",
      "id": "26309f7d",
      "metadata": {
        "id": "26309f7d"
      },
      "source": [
        "## XAI for VGG-16"
      ]
    },
    {
      "cell_type": "code",
      "execution_count": null,
      "id": "077a5db9",
      "metadata": {
        "id": "077a5db9"
      },
      "outputs": [],
      "source": [
        "import lime.lime_image\n",
        "\n",
        "explainer = lime.lime_image.LimeImageExplainer()\n",
        "exp = explainer.explain_instance(np.array(image_batch[0]),\n",
        "                                model.predict,\n",
        "                                hide_color = 0,\n",
        "                                num_samples = 1000)\n",
        "plt.imshow(exp.segments)\n",
        "plt.axis('off')\n",
        "plt.show()"
      ]
    },
    {
      "cell_type": "code",
      "execution_count": null,
      "id": "0e430259",
      "metadata": {
        "id": "0e430259"
      },
      "outputs": [],
      "source": [
        "# Features of spectrogram used to identify data as fake -> 1\n",
        "generate_prediction_sample(exp, exp.top_labels[1], show_positive = True, hide_background = True)"
      ]
    },
    {
      "cell_type": "code",
      "execution_count": null,
      "id": "81be41fe",
      "metadata": {
        "id": "81be41fe"
      },
      "outputs": [],
      "source": [
        "# Features of spectrogram used to identify data as real -> 0\n",
        "generate_prediction_sample(exp, exp.top_labels[0], show_positive = True, hide_background = True)"
      ]
    },
    {
      "cell_type": "markdown",
      "id": "36fabe3f",
      "metadata": {
        "id": "36fabe3f"
      },
      "source": [
        "# MobileNet"
      ]
    },
    {
      "cell_type": "code",
      "execution_count": null,
      "id": "24c29439",
      "metadata": {
        "id": "24c29439",
        "outputId": "896ac070-6f8a-4a1d-ff84-6e6617a3b4e5"
      },
      "outputs": [
        {
          "name": "stdout",
          "output_type": "stream",
          "text": [
            "(32, 2048)\n"
          ]
        }
      ],
      "source": [
        "# Download inception v3 model\n",
        "feature_extractor2 = \"https://tfhub.dev/google/tf2-preview/inception_v3/feature_vector/4\"\n",
        "\n",
        "feature_extractor_layer2 = hub.KerasLayer(\n",
        "    feature_extractor2,\n",
        "    input_shape=(224, 224, 3),\n",
        "    trainable=False)\n",
        "\n",
        "feature_batch2 = feature_extractor_layer2(image_batch)\n",
        "print(feature_batch2.shape)"
      ]
    },
    {
      "cell_type": "code",
      "execution_count": null,
      "id": "6f98d8c9",
      "metadata": {
        "id": "6f98d8c9",
        "outputId": "4e3d6a65-0749-4219-9ca5-b0935db89f6c"
      },
      "outputs": [
        {
          "name": "stdout",
          "output_type": "stream",
          "text": [
            "Model: \"sequential_3\"\n",
            "_________________________________________________________________\n",
            "Layer (type)                 Output Shape              Param #   \n",
            "=================================================================\n",
            "keras_layer_1 (KerasLayer)   (None, 2048)              21802784  \n",
            "_________________________________________________________________\n",
            "dense_12 (Dense)             (None, 1024)              2098176   \n",
            "_________________________________________________________________\n",
            "dropout_7 (Dropout)          (None, 1024)              0         \n",
            "_________________________________________________________________\n",
            "dense_13 (Dense)             (None, 1024)              1049600   \n",
            "_________________________________________________________________\n",
            "dropout_8 (Dropout)          (None, 1024)              0         \n",
            "_________________________________________________________________\n",
            "dense_14 (Dense)             (None, 1)                 1025      \n",
            "=================================================================\n",
            "Total params: 24,951,585\n",
            "Trainable params: 3,148,801\n",
            "Non-trainable params: 21,802,784\n",
            "_________________________________________________________________\n"
          ]
        }
      ],
      "source": [
        "# Load pretrained model. Adding an output layer with 2 neurons\n",
        "model_mobile = tf.keras.Sequential([\n",
        "    feature_extractor_layer2,\n",
        "    tf.keras.layers.Dense(1024, activation = 'relu'),\n",
        "    tf.keras.layers.Dropout(0.3),\n",
        "    tf.keras.layers.Dense(1024, activation = 'relu'),\n",
        "    tf.keras.layers.Dropout(0.3),\n",
        "    tf.keras.layers.Dense(1, activation = 'sigmoid')\n",
        "])\n",
        "\n",
        "model_mobile.summary()"
      ]
    },
    {
      "cell_type": "code",
      "execution_count": null,
      "id": "6ad16978",
      "metadata": {
        "id": "6ad16978"
      },
      "outputs": [],
      "source": [
        "# Compile the model and define folder to store logs\n",
        "model_mobile.compile(optimizer=tf.keras.optimizers.Adam(),\n",
        "                     loss=tf.keras.losses.BinaryCrossentropy(from_logits=False),\n",
        "                     metrics=['acc'])\n",
        "\n",
        "log_dir = \"logs/fit/\" + \"mobile-net-\" + datetime.datetime.now().strftime(\"%Y%m%d-%H%M%S\")\n",
        "\n",
        "tensorboard_callback = tf.keras.callbacks.TensorBoard(log_dir=log_dir, histogram_freq = 1)"
      ]
    },
    {
      "cell_type": "code",
      "execution_count": null,
      "id": "41a75f88",
      "metadata": {
        "id": "41a75f88",
        "outputId": "f2b5a1e2-628a-4aa1-e571-dba5c1af3c79"
      },
      "outputs": [
        {
          "name": "stdout",
          "output_type": "stream",
          "text": [
            "Epoch 1/2\n",
            "256/256 [==============================] - 101s 353ms/step - loss: 1.9270 - acc: 0.6679 - val_loss: 0.4873 - val_acc: 0.7457\n",
            "Epoch 2/2\n",
            "256/256 [==============================] - 61s 236ms/step - loss: 0.5703 - acc: 0.6978 - val_loss: 0.4768 - val_acc: 0.7594\n"
          ]
        }
      ],
      "source": [
        "# Takes a while to train. Set to 2 epochs. Increase if needed\n",
        "history2 = model_mobile.fit(train_ds,\n",
        "                    validation_data = test_ds,\n",
        "                    epochs = 2,\n",
        "                    callbacks = tensorboard_callback)"
      ]
    },
    {
      "cell_type": "code",
      "execution_count": null,
      "id": "0b00d4e9",
      "metadata": {
        "id": "0b00d4e9",
        "outputId": "3f0baf56-0b28-414f-d3ef-d678c462b6ba"
      },
      "outputs": [
        {
          "name": "stdout",
          "output_type": "stream",
          "text": [
            "Mobile net: ['fake' 'fake' 'fake' 'fake' 'fake' 'fake' 'fake' 'fake' 'fake' 'fake'\n",
            " 'fake' 'fake' 'fake' 'fake' 'fake' 'fake' 'fake' 'fake' 'fake' 'fake'\n",
            " 'fake' 'fake' 'fake' 'fake' 'fake' 'fake' 'fake' 'fake' 'fake' 'fake'\n",
            " 'fake' 'fake']\n"
          ]
        }
      ],
      "source": [
        "# Check predictions\n",
        "predicted_batch = model_mobile.predict(image_batch)\n",
        "predicted_id = tf.math.argmax(predicted_batch, axis=-1)\n",
        "predicted_label_batch = class_names[predicted_id]\n",
        "print('Mobile net:',predicted_label_batch)"
      ]
    },
    {
      "cell_type": "code",
      "execution_count": null,
      "id": "3df9fe32",
      "metadata": {
        "id": "3df9fe32",
        "outputId": "2c72c12f-29fb-42ce-b0ee-76b00124b405"
      },
      "outputs": [
        {
          "data": {
            "image/png": "[encoded data removed]",
            "text/plain": [
              "<Figure size 432x288 with 1 Axes>"
            ]
          },
          "metadata": {
            "needs_background": "light"
          },
          "output_type": "display_data"
        }
      ],
      "source": [
        "# Plot accuracy curve\n",
        "acc = history2.history['acc']\n",
        "val_acc = history2.history['val_acc']\n",
        "epochs = range(1, len(acc) + 1)\n",
        "\n",
        "plt.plot(epochs, acc, '-', label='Training Accuracy')\n",
        "plt.plot(epochs, val_acc, ':', label='Validation Accuracy')\n",
        "plt.title('Training and Validation Accuracy of Mobile Net')\n",
        "plt.xlabel('Epoch')\n",
        "plt.ylabel('Accuracy')\n",
        "plt.legend(loc='lower right')\n",
        "plt.show()"
      ]
    },
    {
      "cell_type": "code",
      "execution_count": null,
      "id": "45f35179",
      "metadata": {
        "scrolled": true,
        "id": "45f35179",
        "outputId": "850bfcc9-4303-4107-89d6-bd14e01e62eb"
      },
      "outputs": [
        {
          "data": {
            "image/png": "[encoded data removed]",
            "text/plain": [
              "<Figure size 432x288 with 1 Axes>"
            ]
          },
          "metadata": {
            "needs_background": "light"
          },
          "output_type": "display_data"
        }
      ],
      "source": [
        "# Plot loss curve\n",
        "loss = history2.history['loss']\n",
        "val_loss = history2.history['val_loss']\n",
        "epochs = range(1, len(acc) + 1)\n",
        "\n",
        "plt.plot(epochs, acc, '-', label='Training Loss')\n",
        "plt.plot(epochs, val_acc, ':', label='Validation Loss')\n",
        "plt.title('Training and Validation Loss of Mobile Net')\n",
        "plt.xlabel('Epoch')\n",
        "plt.ylabel('Loss')\n",
        "plt.legend(loc='lower right')\n",
        "plt.show()"
      ]
    },
    {
      "cell_type": "code",
      "execution_count": null,
      "id": "96fd002a",
      "metadata": {
        "id": "96fd002a"
      },
      "outputs": [],
      "source": [
        "# View weights learnt by the model\n",
        "model_mobile.save_weights('./checkpoints/my_checkpoint1')\n",
        "model_mobile.save('Capstone/saved_model/my_mobilenet_v2')"
      ]
    },
    {
      "cell_type": "markdown",
      "id": "531da8b4",
      "metadata": {
        "id": "531da8b4"
      },
      "source": [
        "## XAI for MobileNet"
      ]
    },
    {
      "cell_type": "code",
      "execution_count": null,
      "id": "bf66d67f",
      "metadata": {
        "id": "bf66d67f"
      },
      "outputs": [],
      "source": [
        "import lime.lime_image\n",
        "\n",
        "explainer = lime.lime_image.LimeImageExplainer()\n",
        "exp = explainer.explain_instance(np.array(image_batch[0]),\n",
        "                                model_mobile.predict,\n",
        "                                hide_color = 0,\n",
        "                                num_samples = 1000)\n",
        "plt.imshow(exp.segments)\n",
        "plt.axis('off')\n",
        "plt.show()"
      ]
    },
    {
      "cell_type": "code",
      "execution_count": null,
      "id": "e24bab65",
      "metadata": {
        "id": "e24bab65"
      },
      "outputs": [],
      "source": [
        "# Features of spectrogram used to identify data as real -> 0\n",
        "generate_prediction_sample(exp, exp.top_labels[0], show_positive = True, hide_background = True)"
      ]
    },
    {
      "cell_type": "markdown",
      "id": "866323c2",
      "metadata": {
        "id": "866323c2"
      },
      "source": [
        "# ResNet"
      ]
    },
    {
      "cell_type": "code",
      "execution_count": null,
      "id": "91baa6e0",
      "metadata": {
        "id": "91baa6e0"
      },
      "outputs": [],
      "source": [
        "from tensorflow.keras.applications.resnet50 import ResNet50\n",
        "from tensorflow.keras.models import Model\n",
        "import keras\n",
        "\n",
        "resnet = ResNet50(include_top=False, weights='imagenet', input_shape=(img_height, img_width, channels))\n",
        "\n",
        "# Do not train the model, leverage pretrained layers\n",
        "for layer in resnet.layers:\n",
        "    layer.trainable = False\n",
        "\n",
        "resnet.summary()"
      ]
    },
    {
      "cell_type": "code",
      "execution_count": null,
      "id": "c0316eee",
      "metadata": {
        "id": "c0316eee"
      },
      "outputs": [],
      "source": [
        "# Create transfer learning model\n",
        "\n",
        "model_resnet = Sequential()\n",
        "\n",
        "# Add pretrained model as it is\n",
        "model_resnet.add(resnet)\n",
        "# Flatten last layer of resnet\n",
        "model_resnet.add(Flatten())\n",
        "# Add layers of our own\n",
        "model_resnet.add(Dense(512, activation='relu', input_dim=(img_height, img_width, channels)))\n",
        "model_resnet.add(tf.keras.layers.Dropout(0.3))\n",
        "model_resnet.add(Dense(512, activation='relu'))\n",
        "model_resnet.add(tf.keras.layers.Dropout(0.3))\n",
        "model_resnet.add(Dense(1, activation='sigmoid'))\n",
        "\n",
        "model_resnet.summary()"
      ]
    },
    {
      "cell_type": "code",
      "execution_count": null,
      "id": "02a19efe",
      "metadata": {
        "id": "02a19efe"
      },
      "outputs": [],
      "source": [
        "model_resnet.compile(loss='binary_crossentropy',\n",
        "                     optimizer=keras.optimizers.RMSprop(learning_rate = 2e-5),\n",
        "                     metrics=['accuracy'])\n",
        "\n",
        "log_dir = \"logs/fit/\" + \"resnet-\" + datetime.datetime.now().strftime(\"%Y%m%d-%H%M%S\")\n",
        "\n",
        "tensorboard_callback = tf.keras.callbacks.TensorBoard(log_dir=log_dir, histogram_freq = 1)"
      ]
    },
    {
      "cell_type": "code",
      "execution_count": null,
      "id": "2b1c3cb8",
      "metadata": {
        "id": "2b1c3cb8"
      },
      "outputs": [],
      "source": [
        "history3 = model_resnet.fit(train_ds,\n",
        "                    validation_data = test_ds,\n",
        "                    epochs = 20,\n",
        "                    callbacks = tensorboard_callback)"
      ]
    },
    {
      "cell_type": "code",
      "execution_count": null,
      "id": "651d566b",
      "metadata": {
        "id": "651d566b"
      },
      "outputs": [],
      "source": [
        "# Check predictions\n",
        "predicted_batch = model_mobile.predict(image_batch)\n",
        "predicted_id = tf.math.argmax(predicted_batch, axis=-1)\n",
        "predicted_label_batch = class_names[predicted_id]\n",
        "print('ResNet50:',predicted_label_batch)"
      ]
    },
    {
      "cell_type": "code",
      "execution_count": null,
      "id": "6fe2d250",
      "metadata": {
        "id": "6fe2d250"
      },
      "outputs": [],
      "source": [
        "# Plot accuracy curve\n",
        "acc = history3.history['acc']\n",
        "val_acc = history3.history['val_acc']\n",
        "epochs = range(1, len(acc) + 1)\n",
        "\n",
        "plt.plot(epochs, acc, '-', label='Training Accuracy')\n",
        "plt.plot(epochs, val_acc, ':', label='Validation Accuracy')\n",
        "plt.title('Training and Validation Accuracy of ResNet50')\n",
        "plt.xlabel('Epoch')\n",
        "plt.ylabel('Accuracy')\n",
        "plt.legend(loc='lower right')\n",
        "plt.show()"
      ]
    },
    {
      "cell_type": "code",
      "execution_count": null,
      "id": "55df818b",
      "metadata": {
        "id": "55df818b"
      },
      "outputs": [],
      "source": [
        "# Plot loss curve\n",
        "loss = history3.history['loss']\n",
        "val_loss = history3.history['val_loss']\n",
        "epochs = range(1, len(acc) + 1)\n",
        "\n",
        "plt.plot(epochs, acc, '-', label='Training Loss')\n",
        "plt.plot(epochs, val_acc, ':', label='Validation Loss')\n",
        "plt.title('Training and Validation Loss of ResNet50')\n",
        "plt.xlabel('Epoch')\n",
        "plt.ylabel('Loss')\n",
        "plt.legend(loc='lower right')\n",
        "plt.show()"
      ]
    },
    {
      "cell_type": "code",
      "execution_count": null,
      "id": "48d22a66",
      "metadata": {
        "id": "48d22a66"
      },
      "outputs": [],
      "source": [
        "# View weights learnt by the model\n",
        "model_mobile.save_weights('./checkpoints/my_checkpoint1')\n",
        "model_mobile.save('Capstone/saved_model/my_resnet')"
      ]
    },
    {
      "cell_type": "markdown",
      "id": "b3410cdd",
      "metadata": {
        "id": "b3410cdd"
      },
      "source": [
        "## XAI for ResNet50"
      ]
    },
    {
      "cell_type": "code",
      "execution_count": null,
      "id": "67114392",
      "metadata": {
        "id": "67114392"
      },
      "outputs": [],
      "source": [
        "import lime.lime_image\n",
        "\n",
        "explainer = lime.lime_image.LimeImageExplainer()\n",
        "exp = explainer.explain_instance(np.array(image_batch[0]),\n",
        "                                model_mobile.predict,\n",
        "                                hide_color = 0,\n",
        "                                num_samples = 1000)\n",
        "plt.imshow(exp.segments)\n",
        "plt.axis('off')\n",
        "plt.show()"
      ]
    },
    {
      "cell_type": "code",
      "execution_count": null,
      "id": "15f61268",
      "metadata": {
        "id": "15f61268"
      },
      "outputs": [],
      "source": [
        "# Features of spectrogram used to identify data as real -> 0\n",
        "generate_prediction_sample(exp, exp.top_labels[0], show_positive = True, hide_background = True)"
      ]
    },
    {
      "cell_type": "markdown",
      "id": "3cd03c90",
      "metadata": {
        "id": "3cd03c90"
      },
      "source": [
        "# Custom CNN"
      ]
    },
    {
      "cell_type": "code",
      "execution_count": null,
      "id": "f00b22c6",
      "metadata": {
        "id": "f00b22c6"
      },
      "outputs": [],
      "source": [
        "from keras.models import Sequential\n",
        "from keras.layers import Conv2D, MaxPooling2D\n",
        "from keras.layers import Flatten, Dense\n",
        "\n",
        "model_cnn = Sequential()\n",
        "model_cnn.add(Conv2D(32, (3, 3), activation='relu', input_shape=(224, 224, 3)))\n",
        "model_cnn.add(MaxPooling2D(2, 2))\n",
        "\n",
        "model_cnn.add(Conv2D(128, (3, 3), activation='relu'))\n",
        "model_cnn.add(MaxPooling2D(2, 2))\n",
        "\n",
        "model_cnn.add(Conv2D(128, (3, 3), activation='relu'))\n",
        "model_cnn.add(MaxPooling2D(2, 2))\n",
        "\n",
        "model_cnn.add(Flatten())\n",
        "\n",
        "model_cnn.add(Dense(512, activation='relu'))\n",
        "model_cnn.add(tf.keras.layers.Dropout(0.3))\n",
        "\n",
        "model_cnn.add(Dense(512, activation = 'relu'))\n",
        "model_cnn.add(tf.keras.layers.Dropout(0.3))\n",
        "\n",
        "model_cnn.add(Dense(1, activation='softmax'))\n",
        "\n",
        "model_cnn.compile(optimizer='adam', loss='binary_crossentropy', metrics=['accuracy'])\n",
        "\n",
        "log_dir = \"logs/fit/\" + \"resnet-\" + datetime.datetime.now().strftime(\"%Y%m%d-%H%M%S\")\n",
        "\n",
        "tensorboard_callback = tf.keras.callbacks.TensorBoard(log_dir=log_dir, histogram_freq = 1)\n",
        "\n",
        "model_cnn.summary()"
      ]
    },
    {
      "cell_type": "code",
      "execution_count": null,
      "id": "2cce1c38",
      "metadata": {
        "id": "2cce1c38"
      },
      "outputs": [],
      "source": [
        "history4 = model_cnn.fit(train_ds,\n",
        "                    validation_data = test_ds,\n",
        "                    epochs = 5,\n",
        "                    callbacks = tensorboard_callback)"
      ]
    },
    {
      "cell_type": "code",
      "execution_count": null,
      "id": "d462cbd8",
      "metadata": {
        "id": "d462cbd8"
      },
      "outputs": [],
      "source": [
        "# Check predictions\n",
        "predicted_batch = model_mobile.predict(image_batch)\n",
        "predicted_id = tf.math.argmax(predicted_batch, axis=-1)\n",
        "predicted_label_batch = class_names[predicted_id]\n",
        "print('Custom CNN', predicted_label_batch)"
      ]
    },
    {
      "cell_type": "code",
      "execution_count": null,
      "id": "4f6398d5",
      "metadata": {
        "id": "4f6398d5"
      },
      "outputs": [],
      "source": [
        "# Plot accuracy curve\n",
        "acc = history4.history['accuracy']\n",
        "val_acc = history4.history['val_accuracy']\n",
        "epochs = range(1, len(acc) + 1)\n",
        "\n",
        "plt.plot(epochs, acc, '-', label='Training Accuracy')\n",
        "plt.plot(epochs, val_acc, ':', label='Validation Accuracy')\n",
        "plt.title('Training and Validation Accuracy of Custom CNN')\n",
        "plt.xlabel('Epoch')\n",
        "plt.ylabel('Accuracy')\n",
        "plt.legend(loc='lower right')\n",
        "plt.show()"
      ]
    },
    {
      "cell_type": "code",
      "execution_count": null,
      "id": "d33d4edc",
      "metadata": {
        "id": "d33d4edc"
      },
      "outputs": [],
      "source": [
        "# Plot loss curve\n",
        "loss = history4.history['loss']\n",
        "val_loss = history4.history['val_loss']\n",
        "epochs = range(1, len(acc) + 1)\n",
        "\n",
        "plt.plot(epochs, acc, '-', label='Training Loss')\n",
        "plt.plot(epochs, val_acc, ':', label='Validation Loss')\n",
        "plt.title('Training and Validation Loss of Custom CNN')\n",
        "plt.xlabel('Epoch')\n",
        "plt.ylabel('Loss')\n",
        "plt.legend(loc='lower right')\n",
        "plt.show()"
      ]
    },
    {
      "cell_type": "code",
      "execution_count": null,
      "id": "330e982a",
      "metadata": {
        "id": "330e982a"
      },
      "outputs": [],
      "source": [
        "# View weights learnt by the model\n",
        "model_cnn.save_weights('./checkpoints/my_checkpoint1')\n",
        "model_cnn.save('Capstone/saved_model/my_cnn')"
      ]
    },
    {
      "cell_type": "markdown",
      "id": "556da947",
      "metadata": {
        "id": "556da947"
      },
      "source": [
        "## XAI for Custom CNN"
      ]
    },
    {
      "cell_type": "code",
      "execution_count": null,
      "id": "fea05bb6",
      "metadata": {
        "id": "fea05bb6"
      },
      "outputs": [],
      "source": [
        "import lime.lime_image\n",
        "\n",
        "explainer = lime.lime_image.LimeImageExplainer()\n",
        "exp = explainer.explain_instance(np.array(image_batch[0]),\n",
        "                                model_cnn.predict,\n",
        "                                hide_color = 0,\n",
        "                                num_samples = 1000)\n",
        "plt.imshow(exp.segments)\n",
        "plt.axis('off')\n",
        "plt.show()"
      ]
    },
    {
      "cell_type": "code",
      "execution_count": null,
      "id": "9da6b25d",
      "metadata": {
        "id": "9da6b25d"
      },
      "outputs": [],
      "source": [
        "# Features of spectrogram used to identify data as real -> 0\n",
        "generate_prediction_sample(exp, exp.top_labels[0], show_positive = True, hide_background = True)"
      ]
    },
    {
      "cell_type": "markdown",
      "id": "e183513d",
      "metadata": {
        "id": "e183513d"
      },
      "source": [
        "# HuggingFace Model"
      ]
    },
    {
      "cell_type": "code",
      "execution_count": null,
      "id": "173f72aa",
      "metadata": {
        "id": "173f72aa",
        "outputId": "869abc1d-64a5-4e20-ee42-99fe780a4e0e"
      },
      "outputs": [
        {
          "name": "stdout",
          "output_type": "stream",
          "text": [
            "Collecting transformers"
          ]
        },
        {
          "name": "stderr",
          "output_type": "stream",
          "text": [
            "WARNING: Ignoring invalid distribution -rotobuf (e:\\python\\envs\\gpuenv\\lib\\site-packages)\n",
            "WARNING: Ignoring invalid distribution -rotobuf (e:\\python\\envs\\gpuenv\\lib\\site-packages)\n",
            "  ERROR: Command errored out with exit status 1:\n",
            "   command: 'E:\\Python\\envs\\gpuenv\\python.exe' 'E:\\Python\\envs\\gpuenv\\lib\\site-packages\\pip\\_vendor\\pep517\\in_process\\_in_process.py' build_wheel 'C:\\Users\\hp\\AppData\\Local\\Temp\\tmp1jf8735g'\n",
            "       cwd: C:\\Users\\hp\\AppData\\Local\\Temp\\pip-install-3y8p17_l\\tokenizers_606831697a114a83bdc9745cc667188a\n",
            "  Complete output (51 lines):\n",
            "  running bdist_wheel\n",
            "  running build\n",
            "  running build_py\n",
            "  creating build\n",
            "  creating build\\lib.win-amd64-3.6\n",
            "  creating build\\lib.win-amd64-3.6\\tokenizers\n",
            "  copying py_src\\tokenizers\\__init__.py -> build\\lib.win-amd64-3.6\\tokenizers\n",
            "  creating build\\lib.win-amd64-3.6\\tokenizers\\models\n",
            "  copying py_src\\tokenizers\\models\\__init__.py -> build\\lib.win-amd64-3.6\\tokenizers\\models\n",
            "  creating build\\lib.win-amd64-3.6\\tokenizers\\decoders\n",
            "  copying py_src\\tokenizers\\decoders\\__init__.py -> build\\lib.win-amd64-3.6\\tokenizers\\decoders\n",
            "  creating build\\lib.win-amd64-3.6\\tokenizers\\normalizers\n",
            "  copying py_src\\tokenizers\\normalizers\\__init__.py -> build\\lib.win-amd64-3.6\\tokenizers\\normalizers\n",
            "  creating build\\lib.win-amd64-3.6\\tokenizers\\pre_tokenizers\n",
            "  copying py_src\\tokenizers\\pre_tokenizers\\__init__.py -> build\\lib.win-amd64-3.6\\tokenizers\\pre_tokenizers\n",
            "  creating build\\lib.win-amd64-3.6\\tokenizers\\processors\n",
            "  copying py_src\\tokenizers\\processors\\__init__.py -> build\\lib.win-amd64-3.6\\tokenizers\\processors\n",
            "  creating build\\lib.win-amd64-3.6\\tokenizers\\trainers\n",
            "  copying py_src\\tokenizers\\trainers\\__init__.py -> build\\lib.win-amd64-3.6\\tokenizers\\trainers\n",
            "  creating build\\lib.win-amd64-3.6\\tokenizers\\implementations\n",
            "  copying py_src\\tokenizers\\implementations\\base_tokenizer.py -> build\\lib.win-amd64-3.6\\tokenizers\\implementations\n",
            "  copying py_src\\tokenizers\\implementations\\bert_wordpiece.py -> build\\lib.win-amd64-3.6\\tokenizers\\implementations\n",
            "  copying py_src\\tokenizers\\implementations\\byte_level_bpe.py -> build\\lib.win-amd64-3.6\\tokenizers\\implementations\n",
            "  copying py_src\\tokenizers\\implementations\\char_level_bpe.py -> build\\lib.win-amd64-3.6\\tokenizers\\implementations\n",
            "  copying py_src\\tokenizers\\implementations\\sentencepiece_bpe.py -> build\\lib.win-amd64-3.6\\tokenizers\\implementations\n",
            "  copying py_src\\tokenizers\\implementations\\sentencepiece_unigram.py -> build\\lib.win-amd64-3.6\\tokenizers\\implementations\n",
            "  copying py_src\\tokenizers\\implementations\\__init__.py -> build\\lib.win-amd64-3.6\\tokenizers\\implementations\n",
            "  creating build\\lib.win-amd64-3.6\\tokenizers\\tools\n",
            "  copying py_src\\tokenizers\\tools\\visualizer.py -> build\\lib.win-amd64-3.6\\tokenizers\\tools\n",
            "  copying py_src\\tokenizers\\tools\\__init__.py -> build\\lib.win-amd64-3.6\\tokenizers\\tools\n",
            "  copying py_src\\tokenizers\\__init__.pyi -> build\\lib.win-amd64-3.6\\tokenizers\n",
            "  copying py_src\\tokenizers\\models\\__init__.pyi -> build\\lib.win-amd64-3.6\\tokenizers\\models\n",
            "  copying py_src\\tokenizers\\decoders\\__init__.pyi -> build\\lib.win-amd64-3.6\\tokenizers\\decoders\n",
            "  copying py_src\\tokenizers\\normalizers\\__init__.pyi -> build\\lib.win-amd64-3.6\\tokenizers\\normalizers\n",
            "  copying py_src\\tokenizers\\pre_tokenizers\\__init__.pyi -> build\\lib.win-amd64-3.6\\tokenizers\\pre_tokenizers\n",
            "  copying py_src\\tokenizers\\processors\\__init__.pyi -> build\\lib.win-amd64-3.6\\tokenizers\\processors\n",
            "  copying py_src\\tokenizers\\trainers\\__init__.pyi -> build\\lib.win-amd64-3.6\\tokenizers\\trainers\n",
            "  copying py_src\\tokenizers\\tools\\visualizer-styles.css -> build\\lib.win-amd64-3.6\\tokenizers\\tools\n",
            "  running build_ext\n",
            "  running build_rust\n",
            "  error: can't find Rust compiler\n",
            "  \n",
            "  If you are using an outdated pip version, it is possible a prebuilt wheel is available for this package but pip is not able to install from it. Installing from the wheel would avoid the need for a Rust compiler.\n",
            "  \n",
            "  To update pip, run:\n",
            "  \n",
            "      pip install --upgrade pip\n",
            "  \n",
            "  and then retry package installation.\n",
            "  \n",
            "  If you did intend to build this package from source, try installing a Rust compiler from your system package manager and ensure it is on the PATH during installation. Alternatively, rustup (available at https://rustup.rs) is the recommended way to download and update the Rust compiler toolchain.\n",
            "  ----------------------------------------\n",
            "  ERROR: Failed building wheel for tokenizers\n",
            "ERROR: Could not build wheels for tokenizers which use PEP 517 and cannot be installed directly\n",
            "WARNING: Ignoring invalid distribution -rotobuf (e:\\python\\envs\\gpuenv\\lib\\site-packages)\n",
            "WARNING: Ignoring invalid distribution -rotobuf (e:\\python\\envs\\gpuenv\\lib\\site-packages)\n",
            "WARNING: Ignoring invalid distribution -rotobuf (e:\\python\\envs\\gpuenv\\lib\\site-packages)\n"
          ]
        },
        {
          "name": "stdout",
          "output_type": "stream",
          "text": [
            "\n",
            "  Using cached transformers-4.18.0-py3-none-any.whl (4.0 MB)\n",
            "Collecting pyyaml>=5.1\n",
            "  Using cached PyYAML-6.0-cp36-cp36m-win_amd64.whl (153 kB)\n",
            "Requirement already satisfied: tqdm>=4.27 in e:\\python\\envs\\gpuenv\\lib\\site-packages (from transformers) (4.64.0)\n",
            "Collecting regex!=2019.12.17\n",
            "  Using cached regex-2022.10.31-cp36-cp36m-win_amd64.whl (279 kB)\n",
            "Requirement already satisfied: packaging>=20.0 in e:\\python\\envs\\gpuenv\\lib\\site-packages (from transformers) (21.3)\n",
            "Collecting tokenizers!=0.11.3,<0.13,>=0.11.1\n",
            "  Using cached tokenizers-0.12.1.tar.gz (220 kB)\n",
            "  Installing build dependencies: started\n",
            "  Installing build dependencies: finished with status 'done'\n",
            "  Getting requirements to build wheel: started\n",
            "  Getting requirements to build wheel: finished with status 'done'\n",
            "    Preparing wheel metadata: started\n",
            "    Preparing wheel metadata: finished with status 'done'\n",
            "Requirement already satisfied: requests in e:\\python\\envs\\gpuenv\\lib\\site-packages (from transformers) (2.27.1)\n",
            "Collecting sacremoses\n",
            "  Using cached sacremoses-0.0.53-py3-none-any.whl\n",
            "Requirement already satisfied: dataclasses in e:\\python\\envs\\gpuenv\\lib\\site-packages (from transformers) (0.8)\n",
            "Requirement already satisfied: importlib-metadata in e:\\python\\envs\\gpuenv\\lib\\site-packages (from transformers) (4.8.3)\n",
            "Collecting huggingface-hub<1.0,>=0.1.0\n",
            "  Using cached huggingface_hub-0.4.0-py3-none-any.whl (67 kB)\n",
            "Collecting filelock\n",
            "  Using cached filelock-3.4.1-py3-none-any.whl (9.9 kB)\n",
            "Requirement already satisfied: numpy>=1.17 in e:\\python\\envs\\gpuenv\\lib\\site-packages (from transformers) (1.19.5)\n",
            "Requirement already satisfied: typing-extensions>=3.7.4.3 in e:\\python\\envs\\gpuenv\\lib\\site-packages (from huggingface-hub<1.0,>=0.1.0->transformers) (3.7.4.3)\n",
            "Requirement already satisfied: pyparsing!=3.0.5,>=2.0.2 in e:\\python\\envs\\gpuenv\\lib\\site-packages (from packaging>=20.0->transformers) (3.0.4)\n",
            "Requirement already satisfied: importlib-resources in e:\\python\\envs\\gpuenv\\lib\\site-packages (from tqdm>=4.27->transformers) (5.4.0)\n",
            "Requirement already satisfied: colorama in e:\\python\\envs\\gpuenv\\lib\\site-packages (from tqdm>=4.27->transformers) (0.4.4)\n",
            "Requirement already satisfied: zipp>=0.5 in e:\\python\\envs\\gpuenv\\lib\\site-packages (from importlib-metadata->transformers) (3.6.0)\n",
            "Requirement already satisfied: charset-normalizer~=2.0.0 in e:\\python\\envs\\gpuenv\\lib\\site-packages (from requests->transformers) (2.0.12)\n",
            "Requirement already satisfied: certifi>=2017.4.17 in e:\\python\\envs\\gpuenv\\lib\\site-packages (from requests->transformers) (2021.5.30)\n",
            "Requirement already satisfied: idna<4,>=2.5 in e:\\python\\envs\\gpuenv\\lib\\site-packages (from requests->transformers) (3.3)\n",
            "Requirement already satisfied: urllib3<1.27,>=1.21.1 in e:\\python\\envs\\gpuenv\\lib\\site-packages (from requests->transformers) (1.26.9)\n",
            "Collecting click\n",
            "  Using cached click-8.0.4-py3-none-any.whl (97 kB)\n",
            "Requirement already satisfied: six in e:\\python\\envs\\gpuenv\\lib\\site-packages (from sacremoses->transformers) (1.15.0)\n",
            "Requirement already satisfied: joblib in e:\\python\\envs\\gpuenv\\lib\\site-packages (from sacremoses->transformers) (1.1.0)\n",
            "Building wheels for collected packages: tokenizers\n",
            "  Building wheel for tokenizers (PEP 517): started\n",
            "  Building wheel for tokenizers (PEP 517): finished with status 'error'\n",
            "Failed to build tokenizers\n"
          ]
        }
      ],
      "source": [
        "!pip install transformers"
      ]
    },
    {
      "cell_type": "code",
      "execution_count": null,
      "id": "322e9d24",
      "metadata": {
        "id": "322e9d24",
        "outputId": "0defbcba-a9f0-4e98-8562-e3aab0f4edd4"
      },
      "outputs": [
        {
          "ename": "ModuleNotFoundError",
          "evalue": "No module named 'transformers'",
          "output_type": "error",
          "traceback": [
            "\u001b[1;31m---------------------------------------------------------------------------\u001b[0m",
            "\u001b[1;31mModuleNotFoundError\u001b[0m                       Traceback (most recent call last)",
            "\u001b[1;32m<ipython-input-69-d5fe58be87df>\u001b[0m in \u001b[0;36m<module>\u001b[1;34m\u001b[0m\n\u001b[1;32m----> 1\u001b[1;33m \u001b[1;32mfrom\u001b[0m \u001b[0mtransformers\u001b[0m \u001b[1;32mimport\u001b[0m \u001b[0mAutoModelForSequenceClassification\u001b[0m\u001b[1;33m\u001b[0m\u001b[1;33m\u001b[0m\u001b[0m\n\u001b[0m\u001b[0;32m      2\u001b[0m \u001b[1;33m\u001b[0m\u001b[0m\n\u001b[0;32m      3\u001b[0m \u001b[0mmodel\u001b[0m \u001b[1;33m=\u001b[0m \u001b[0mAutoModelForSequenceClassification\u001b[0m\u001b[1;33m.\u001b[0m\u001b[0mfrom_pretrained\u001b[0m\u001b[1;33m(\u001b[0m\u001b[1;34m\"nielsr/audio-spectogram-transformer-finetuned-audioset-10-10-0.4593\"\u001b[0m\u001b[1;33m)\u001b[0m\u001b[1;33m\u001b[0m\u001b[1;33m\u001b[0m\u001b[0m\n",
            "\u001b[1;31mModuleNotFoundError\u001b[0m: No module named 'transformers'"
          ]
        }
      ],
      "source": [
        "from transformers import AutoModelForSequenceClassification\n",
        "\n",
        "model = AutoModelForSequenceClassification.from_pretrained(\"nielsr/audio-spectogram-transformer-finetuned-audioset-10-10-0.4593\")"
      ]
    },
    {
      "cell_type": "code",
      "execution_count": null,
      "id": "e01fb651",
      "metadata": {
        "id": "e01fb651"
      },
      "outputs": [],
      "source": []
    }
  ],
  "metadata": {
    "kernelspec": {
      "display_name": "Python 3",
      "language": "python",
      "name": "python3"
    },
    "language_info": {
      "codemirror_mode": {
        "name": "ipython",
        "version": 3
      },
      "file_extension": ".py",
      "mimetype": "text/x-python",
      "name": "python",
      "nbconvert_exporter": "python",
      "pygments_lexer": "ipython3",
      "version": "3.6.13"
    },
    "colab": {
      "provenance": []
    },
    "accelerator": "GPU",
    "gpuClass": "standard"
  },
  "nbformat": 4,
  "nbformat_minor": 5
}